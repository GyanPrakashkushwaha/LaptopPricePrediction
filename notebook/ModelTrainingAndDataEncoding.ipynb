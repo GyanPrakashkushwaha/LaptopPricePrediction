{
 "cells": [
  {
   "attachments": {},
   "cell_type": "markdown",
   "metadata": {},
   "source": [
    "# Model Training"
   ]
  },
  {
   "cell_type": "code",
   "execution_count": 1,
   "metadata": {},
   "outputs": [],
   "source": [
    "import pandas as pd\n",
    "import numpy as np\n",
    "import seaborn as sns\n",
    "import matplotlib.pyplot as plt\n",
    "\n",
    "\n",
    "# sklearn\n",
    "from sklearn.tree import DecisionTreeRegressor\n",
    "from sklearn.ensemble import (RandomForestRegressor,\n",
    "                              AdaBoostRegressor ,\n",
    "                                GradientBoostingRegressor,\n",
    "                                VotingRegressor,\n",
    "                                StackingRegressor)\n",
    "\n",
    "from sklearn.metrics import r2_score, mean_absolute_error, mean_squared_error , r2_score\n",
    "from sklearn.model_selection import GridSearchCV\n",
    "from catboost import CatBoostRegressor\n",
    "from xgboost import XGBRegressor\n",
    "from sklearn.pipeline import Pipeline\n",
    "from sklearn.impute import SimpleImputer\n",
    "from sklearn.preprocessing import StandardScaler # for num_cols\n",
    "from sklearn.preprocessing import OneHotEncoder # for cat_cols\n",
    "from sklearn.compose import ColumnTransformer # to transform features\n",
    "from sklearn.model_selection import train_test_split\n",
    "\n",
    "import pickle\n",
    "import os"
   ]
  },
  {
   "cell_type": "code",
   "execution_count": 2,
   "metadata": {},
   "outputs": [],
   "source": [
    "df = pd.read_csv('data/laptop_data_cleaned.csv')\n",
    "df.drop_duplicates(inplace=True)"
   ]
  },
  {
   "cell_type": "code",
   "execution_count": 3,
   "metadata": {},
   "outputs": [
    {
     "data": {
      "text/html": [
       "<div>\n",
       "<style scoped>\n",
       "    .dataframe tbody tr th:only-of-type {\n",
       "        vertical-align: middle;\n",
       "    }\n",
       "\n",
       "    .dataframe tbody tr th {\n",
       "        vertical-align: top;\n",
       "    }\n",
       "\n",
       "    .dataframe thead th {\n",
       "        text-align: right;\n",
       "    }\n",
       "</style>\n",
       "<table border=\"1\" class=\"dataframe\">\n",
       "  <thead>\n",
       "    <tr style=\"text-align: right;\">\n",
       "      <th></th>\n",
       "      <th>Company</th>\n",
       "      <th>TypeName</th>\n",
       "      <th>Ram</th>\n",
       "      <th>Weight</th>\n",
       "      <th>Price</th>\n",
       "      <th>TouchScreen</th>\n",
       "      <th>Ips</th>\n",
       "      <th>Ppi</th>\n",
       "      <th>Cpu_brand</th>\n",
       "      <th>HDD</th>\n",
       "      <th>SSD</th>\n",
       "      <th>Gpu_brand</th>\n",
       "      <th>Os</th>\n",
       "    </tr>\n",
       "  </thead>\n",
       "  <tbody>\n",
       "    <tr>\n",
       "      <th>0</th>\n",
       "      <td>Apple</td>\n",
       "      <td>Ultrabook</td>\n",
       "      <td>8</td>\n",
       "      <td>1.37</td>\n",
       "      <td>11.175755</td>\n",
       "      <td>0</td>\n",
       "      <td>1</td>\n",
       "      <td>226.983005</td>\n",
       "      <td>Intel Core i5</td>\n",
       "      <td>0</td>\n",
       "      <td>128</td>\n",
       "      <td>Intel</td>\n",
       "      <td>Mac</td>\n",
       "    </tr>\n",
       "    <tr>\n",
       "      <th>1</th>\n",
       "      <td>Apple</td>\n",
       "      <td>Ultrabook</td>\n",
       "      <td>8</td>\n",
       "      <td>1.34</td>\n",
       "      <td>10.776777</td>\n",
       "      <td>0</td>\n",
       "      <td>0</td>\n",
       "      <td>127.677940</td>\n",
       "      <td>Intel Core i5</td>\n",
       "      <td>0</td>\n",
       "      <td>0</td>\n",
       "      <td>Intel</td>\n",
       "      <td>Mac</td>\n",
       "    </tr>\n",
       "    <tr>\n",
       "      <th>2</th>\n",
       "      <td>HP</td>\n",
       "      <td>Notebook</td>\n",
       "      <td>8</td>\n",
       "      <td>1.86</td>\n",
       "      <td>10.329931</td>\n",
       "      <td>0</td>\n",
       "      <td>0</td>\n",
       "      <td>141.211998</td>\n",
       "      <td>Intel Core i5</td>\n",
       "      <td>0</td>\n",
       "      <td>256</td>\n",
       "      <td>Intel</td>\n",
       "      <td>Others</td>\n",
       "    </tr>\n",
       "    <tr>\n",
       "      <th>3</th>\n",
       "      <td>Apple</td>\n",
       "      <td>Ultrabook</td>\n",
       "      <td>16</td>\n",
       "      <td>1.83</td>\n",
       "      <td>11.814476</td>\n",
       "      <td>0</td>\n",
       "      <td>1</td>\n",
       "      <td>220.534624</td>\n",
       "      <td>Intel Core i7</td>\n",
       "      <td>0</td>\n",
       "      <td>512</td>\n",
       "      <td>AMD</td>\n",
       "      <td>Mac</td>\n",
       "    </tr>\n",
       "    <tr>\n",
       "      <th>4</th>\n",
       "      <td>Apple</td>\n",
       "      <td>Ultrabook</td>\n",
       "      <td>8</td>\n",
       "      <td>1.37</td>\n",
       "      <td>11.473101</td>\n",
       "      <td>0</td>\n",
       "      <td>1</td>\n",
       "      <td>226.983005</td>\n",
       "      <td>Intel Core i5</td>\n",
       "      <td>0</td>\n",
       "      <td>256</td>\n",
       "      <td>Intel</td>\n",
       "      <td>Mac</td>\n",
       "    </tr>\n",
       "    <tr>\n",
       "      <th>...</th>\n",
       "      <td>...</td>\n",
       "      <td>...</td>\n",
       "      <td>...</td>\n",
       "      <td>...</td>\n",
       "      <td>...</td>\n",
       "      <td>...</td>\n",
       "      <td>...</td>\n",
       "      <td>...</td>\n",
       "      <td>...</td>\n",
       "      <td>...</td>\n",
       "      <td>...</td>\n",
       "      <td>...</td>\n",
       "      <td>...</td>\n",
       "    </tr>\n",
       "    <tr>\n",
       "      <th>1268</th>\n",
       "      <td>Asus</td>\n",
       "      <td>Notebook</td>\n",
       "      <td>4</td>\n",
       "      <td>2.20</td>\n",
       "      <td>10.555257</td>\n",
       "      <td>0</td>\n",
       "      <td>0</td>\n",
       "      <td>100.454670</td>\n",
       "      <td>Intel Core i7</td>\n",
       "      <td>500</td>\n",
       "      <td>0</td>\n",
       "      <td>Nvidia</td>\n",
       "      <td>Windows</td>\n",
       "    </tr>\n",
       "    <tr>\n",
       "      <th>1269</th>\n",
       "      <td>Lenovo</td>\n",
       "      <td>2 in 1 Convertible</td>\n",
       "      <td>4</td>\n",
       "      <td>1.80</td>\n",
       "      <td>10.433899</td>\n",
       "      <td>1</td>\n",
       "      <td>1</td>\n",
       "      <td>157.350512</td>\n",
       "      <td>Intel Core i7</td>\n",
       "      <td>0</td>\n",
       "      <td>128</td>\n",
       "      <td>Intel</td>\n",
       "      <td>Windows</td>\n",
       "    </tr>\n",
       "    <tr>\n",
       "      <th>1270</th>\n",
       "      <td>Lenovo</td>\n",
       "      <td>2 in 1 Convertible</td>\n",
       "      <td>16</td>\n",
       "      <td>1.30</td>\n",
       "      <td>11.288115</td>\n",
       "      <td>1</td>\n",
       "      <td>1</td>\n",
       "      <td>276.053530</td>\n",
       "      <td>Intel Core i7</td>\n",
       "      <td>0</td>\n",
       "      <td>512</td>\n",
       "      <td>Intel</td>\n",
       "      <td>Windows</td>\n",
       "    </tr>\n",
       "    <tr>\n",
       "      <th>1271</th>\n",
       "      <td>Lenovo</td>\n",
       "      <td>Notebook</td>\n",
       "      <td>2</td>\n",
       "      <td>1.50</td>\n",
       "      <td>9.409283</td>\n",
       "      <td>0</td>\n",
       "      <td>0</td>\n",
       "      <td>111.935204</td>\n",
       "      <td>Other Intel Processor</td>\n",
       "      <td>0</td>\n",
       "      <td>0</td>\n",
       "      <td>Intel</td>\n",
       "      <td>Windows</td>\n",
       "    </tr>\n",
       "    <tr>\n",
       "      <th>1272</th>\n",
       "      <td>HP</td>\n",
       "      <td>Notebook</td>\n",
       "      <td>6</td>\n",
       "      <td>2.19</td>\n",
       "      <td>10.614129</td>\n",
       "      <td>0</td>\n",
       "      <td>0</td>\n",
       "      <td>100.454670</td>\n",
       "      <td>Intel Core i7</td>\n",
       "      <td>1000</td>\n",
       "      <td>0</td>\n",
       "      <td>AMD</td>\n",
       "      <td>Windows</td>\n",
       "    </tr>\n",
       "  </tbody>\n",
       "</table>\n",
       "<p>1272 rows × 13 columns</p>\n",
       "</div>"
      ],
      "text/plain": [
       "     Company            TypeName  Ram  Weight      Price  TouchScreen  Ips   \n",
       "0      Apple           Ultrabook    8    1.37  11.175755            0    1  \\\n",
       "1      Apple           Ultrabook    8    1.34  10.776777            0    0   \n",
       "2         HP            Notebook    8    1.86  10.329931            0    0   \n",
       "3      Apple           Ultrabook   16    1.83  11.814476            0    1   \n",
       "4      Apple           Ultrabook    8    1.37  11.473101            0    1   \n",
       "...      ...                 ...  ...     ...        ...          ...  ...   \n",
       "1268    Asus            Notebook    4    2.20  10.555257            0    0   \n",
       "1269  Lenovo  2 in 1 Convertible    4    1.80  10.433899            1    1   \n",
       "1270  Lenovo  2 in 1 Convertible   16    1.30  11.288115            1    1   \n",
       "1271  Lenovo            Notebook    2    1.50   9.409283            0    0   \n",
       "1272      HP            Notebook    6    2.19  10.614129            0    0   \n",
       "\n",
       "             Ppi              Cpu_brand   HDD  SSD Gpu_brand       Os  \n",
       "0     226.983005          Intel Core i5     0  128     Intel      Mac  \n",
       "1     127.677940          Intel Core i5     0    0     Intel      Mac  \n",
       "2     141.211998          Intel Core i5     0  256     Intel   Others  \n",
       "3     220.534624          Intel Core i7     0  512       AMD      Mac  \n",
       "4     226.983005          Intel Core i5     0  256     Intel      Mac  \n",
       "...          ...                    ...   ...  ...       ...      ...  \n",
       "1268  100.454670          Intel Core i7   500    0    Nvidia  Windows  \n",
       "1269  157.350512          Intel Core i7     0  128     Intel  Windows  \n",
       "1270  276.053530          Intel Core i7     0  512     Intel  Windows  \n",
       "1271  111.935204  Other Intel Processor     0    0     Intel  Windows  \n",
       "1272  100.454670          Intel Core i7  1000    0       AMD  Windows  \n",
       "\n",
       "[1272 rows x 13 columns]"
      ]
     },
     "execution_count": 3,
     "metadata": {},
     "output_type": "execute_result"
    }
   ],
   "source": [
    "df"
   ]
  },
  {
   "cell_type": "code",
   "execution_count": 4,
   "metadata": {},
   "outputs": [
    {
     "data": {
      "text/html": [
       "<div>\n",
       "<style scoped>\n",
       "    .dataframe tbody tr th:only-of-type {\n",
       "        vertical-align: middle;\n",
       "    }\n",
       "\n",
       "    .dataframe tbody tr th {\n",
       "        vertical-align: top;\n",
       "    }\n",
       "\n",
       "    .dataframe thead th {\n",
       "        text-align: right;\n",
       "    }\n",
       "</style>\n",
       "<table border=\"1\" class=\"dataframe\">\n",
       "  <thead>\n",
       "    <tr style=\"text-align: right;\">\n",
       "      <th></th>\n",
       "      <th>Ram</th>\n",
       "      <th>Weight</th>\n",
       "      <th>Price</th>\n",
       "      <th>TouchScreen</th>\n",
       "      <th>Ips</th>\n",
       "      <th>Ppi</th>\n",
       "      <th>HDD</th>\n",
       "      <th>SSD</th>\n",
       "    </tr>\n",
       "  </thead>\n",
       "  <tbody>\n",
       "    <tr>\n",
       "      <th>count</th>\n",
       "      <td>1272.000000</td>\n",
       "      <td>1272.000000</td>\n",
       "      <td>1272.000000</td>\n",
       "      <td>1272.000000</td>\n",
       "      <td>1272.000000</td>\n",
       "      <td>1272.000000</td>\n",
       "      <td>1272.000000</td>\n",
       "      <td>1272.000000</td>\n",
       "    </tr>\n",
       "    <tr>\n",
       "      <th>mean</th>\n",
       "      <td>8.451258</td>\n",
       "      <td>2.041761</td>\n",
       "      <td>10.828035</td>\n",
       "      <td>0.147013</td>\n",
       "      <td>0.279874</td>\n",
       "      <td>146.936126</td>\n",
       "      <td>414.040881</td>\n",
       "      <td>186.298742</td>\n",
       "    </tr>\n",
       "    <tr>\n",
       "      <th>std</th>\n",
       "      <td>5.099249</td>\n",
       "      <td>0.669088</td>\n",
       "      <td>0.619774</td>\n",
       "      <td>0.354258</td>\n",
       "      <td>0.449114</td>\n",
       "      <td>42.940459</td>\n",
       "      <td>518.128204</td>\n",
       "      <td>186.597777</td>\n",
       "    </tr>\n",
       "    <tr>\n",
       "      <th>min</th>\n",
       "      <td>2.000000</td>\n",
       "      <td>0.690000</td>\n",
       "      <td>9.134616</td>\n",
       "      <td>0.000000</td>\n",
       "      <td>0.000000</td>\n",
       "      <td>90.583402</td>\n",
       "      <td>0.000000</td>\n",
       "      <td>0.000000</td>\n",
       "    </tr>\n",
       "    <tr>\n",
       "      <th>25%</th>\n",
       "      <td>4.000000</td>\n",
       "      <td>1.500000</td>\n",
       "      <td>10.387379</td>\n",
       "      <td>0.000000</td>\n",
       "      <td>0.000000</td>\n",
       "      <td>127.335675</td>\n",
       "      <td>0.000000</td>\n",
       "      <td>0.000000</td>\n",
       "    </tr>\n",
       "    <tr>\n",
       "      <th>50%</th>\n",
       "      <td>8.000000</td>\n",
       "      <td>2.040000</td>\n",
       "      <td>10.872255</td>\n",
       "      <td>0.000000</td>\n",
       "      <td>0.000000</td>\n",
       "      <td>141.211998</td>\n",
       "      <td>0.000000</td>\n",
       "      <td>256.000000</td>\n",
       "    </tr>\n",
       "    <tr>\n",
       "      <th>75%</th>\n",
       "      <td>8.000000</td>\n",
       "      <td>2.310000</td>\n",
       "      <td>11.287447</td>\n",
       "      <td>0.000000</td>\n",
       "      <td>1.000000</td>\n",
       "      <td>157.350512</td>\n",
       "      <td>1000.000000</td>\n",
       "      <td>256.000000</td>\n",
       "    </tr>\n",
       "    <tr>\n",
       "      <th>max</th>\n",
       "      <td>64.000000</td>\n",
       "      <td>4.700000</td>\n",
       "      <td>12.691441</td>\n",
       "      <td>1.000000</td>\n",
       "      <td>1.000000</td>\n",
       "      <td>352.465147</td>\n",
       "      <td>2000.000000</td>\n",
       "      <td>1024.000000</td>\n",
       "    </tr>\n",
       "  </tbody>\n",
       "</table>\n",
       "</div>"
      ],
      "text/plain": [
       "               Ram       Weight        Price  TouchScreen          Ips   \n",
       "count  1272.000000  1272.000000  1272.000000  1272.000000  1272.000000  \\\n",
       "mean      8.451258     2.041761    10.828035     0.147013     0.279874   \n",
       "std       5.099249     0.669088     0.619774     0.354258     0.449114   \n",
       "min       2.000000     0.690000     9.134616     0.000000     0.000000   \n",
       "25%       4.000000     1.500000    10.387379     0.000000     0.000000   \n",
       "50%       8.000000     2.040000    10.872255     0.000000     0.000000   \n",
       "75%       8.000000     2.310000    11.287447     0.000000     1.000000   \n",
       "max      64.000000     4.700000    12.691441     1.000000     1.000000   \n",
       "\n",
       "               Ppi          HDD          SSD  \n",
       "count  1272.000000  1272.000000  1272.000000  \n",
       "mean    146.936126   414.040881   186.298742  \n",
       "std      42.940459   518.128204   186.597777  \n",
       "min      90.583402     0.000000     0.000000  \n",
       "25%     127.335675     0.000000     0.000000  \n",
       "50%     141.211998     0.000000   256.000000  \n",
       "75%     157.350512  1000.000000   256.000000  \n",
       "max     352.465147  2000.000000  1024.000000  "
      ]
     },
     "execution_count": 4,
     "metadata": {},
     "output_type": "execute_result"
    }
   ],
   "source": [
    "df.describe()"
   ]
  },
  {
   "cell_type": "code",
   "execution_count": 5,
   "metadata": {},
   "outputs": [],
   "source": [
    "X = df.drop(columns=['Price'])\n",
    "y = df['Price']"
   ]
  },
  {
   "cell_type": "code",
   "execution_count": 6,
   "metadata": {},
   "outputs": [
    {
     "data": {
      "text/plain": [
       "(7, 5)"
      ]
     },
     "execution_count": 6,
     "metadata": {},
     "output_type": "execute_result"
    }
   ],
   "source": [
    "cat_cols = [features for features in X.columns if X[features].dtypes == 'O']\n",
    "num_cols = [features for features in X.columns if X[features].dtypes != 'O']\n",
    "len(num_cols) , len(cat_cols)"
   ]
  },
  {
   "cell_type": "code",
   "execution_count": 7,
   "metadata": {},
   "outputs": [],
   "source": [
    "cat_pipeline = Pipeline(\n",
    "    steps=[\n",
    "        ('ohe',OneHotEncoder(sparse=False, # this will return me numpy array by the first time\n",
    "        drop='first'# This will drop first column\n",
    "              )),\n",
    "        ('imputer',SimpleImputer())\n",
    "    ]\n",
    ")"
   ]
  },
  {
   "cell_type": "code",
   "execution_count": 8,
   "metadata": {},
   "outputs": [],
   "source": [
    "num_pipeline = Pipeline(\n",
    "    steps=[\n",
    "        ('imputer',SimpleImputer()),\n",
    "        ('scaler',StandardScaler()),\n",
    "    ]\n",
    ")"
   ]
  },
  {
   "cell_type": "code",
   "execution_count": 9,
   "metadata": {},
   "outputs": [
    {
     "name": "stderr",
     "output_type": "stream",
     "text": [
      "c:\\Users\\Gyanprakash\\AppData\\Local\\Programs\\Python\\Python311\\Lib\\site-packages\\sklearn\\preprocessing\\_encoders.py:868: FutureWarning: `sparse` was renamed to `sparse_output` in version 1.2 and will be removed in 1.4. `sparse_output` is ignored unless you leave `sparse` to its default value.\n",
      "  warnings.warn(\n"
     ]
    }
   ],
   "source": [
    "preprocessor_obj = ColumnTransformer(\n",
    "    transformers=[\n",
    "        ('cat_col_pipeline',cat_pipeline,cat_cols),\n",
    "        ('num_col_pipeline',num_pipeline,num_cols)\n",
    "    ],remainder='passthrough'\n",
    ")\n",
    "X = preprocessor_obj.fit_transform(X)"
   ]
  },
  {
   "cell_type": "code",
   "execution_count": 10,
   "metadata": {},
   "outputs": [
    {
     "data": {
      "text/plain": [
       "((1017, 38), (255, 38), (1017,), (255,))"
      ]
     },
     "execution_count": 10,
     "metadata": {},
     "output_type": "execute_result"
    }
   ],
   "source": [
    "X_train, X_test, y_train, y_test = train_test_split(\n",
    "      X, y, test_size=0.2, random_state=1)\n",
    "\n",
    "X_train.shape , X_test.shape , y_train.shape ,y_test.shape\n"
   ]
  },
  {
   "cell_type": "code",
   "execution_count": 11,
   "metadata": {},
   "outputs": [
    {
     "data": {
      "text/plain": [
       "(1017, 38)"
      ]
     },
     "execution_count": 11,
     "metadata": {},
     "output_type": "execute_result"
    }
   ],
   "source": [
    "X_train.shape\n"
   ]
  },
  {
   "cell_type": "code",
   "execution_count": 12,
   "metadata": {},
   "outputs": [
    {
     "data": {
      "text/html": [
       "<style>#sk-container-id-1 {color: black;background-color: white;}#sk-container-id-1 pre{padding: 0;}#sk-container-id-1 div.sk-toggleable {background-color: white;}#sk-container-id-1 label.sk-toggleable__label {cursor: pointer;display: block;width: 100%;margin-bottom: 0;padding: 0.3em;box-sizing: border-box;text-align: center;}#sk-container-id-1 label.sk-toggleable__label-arrow:before {content: \"▸\";float: left;margin-right: 0.25em;color: #696969;}#sk-container-id-1 label.sk-toggleable__label-arrow:hover:before {color: black;}#sk-container-id-1 div.sk-estimator:hover label.sk-toggleable__label-arrow:before {color: black;}#sk-container-id-1 div.sk-toggleable__content {max-height: 0;max-width: 0;overflow: hidden;text-align: left;background-color: #f0f8ff;}#sk-container-id-1 div.sk-toggleable__content pre {margin: 0.2em;color: black;border-radius: 0.25em;background-color: #f0f8ff;}#sk-container-id-1 input.sk-toggleable__control:checked~div.sk-toggleable__content {max-height: 200px;max-width: 100%;overflow: auto;}#sk-container-id-1 input.sk-toggleable__control:checked~label.sk-toggleable__label-arrow:before {content: \"▾\";}#sk-container-id-1 div.sk-estimator input.sk-toggleable__control:checked~label.sk-toggleable__label {background-color: #d4ebff;}#sk-container-id-1 div.sk-label input.sk-toggleable__control:checked~label.sk-toggleable__label {background-color: #d4ebff;}#sk-container-id-1 input.sk-hidden--visually {border: 0;clip: rect(1px 1px 1px 1px);clip: rect(1px, 1px, 1px, 1px);height: 1px;margin: -1px;overflow: hidden;padding: 0;position: absolute;width: 1px;}#sk-container-id-1 div.sk-estimator {font-family: monospace;background-color: #f0f8ff;border: 1px dotted black;border-radius: 0.25em;box-sizing: border-box;margin-bottom: 0.5em;}#sk-container-id-1 div.sk-estimator:hover {background-color: #d4ebff;}#sk-container-id-1 div.sk-parallel-item::after {content: \"\";width: 100%;border-bottom: 1px solid gray;flex-grow: 1;}#sk-container-id-1 div.sk-label:hover label.sk-toggleable__label {background-color: #d4ebff;}#sk-container-id-1 div.sk-serial::before {content: \"\";position: absolute;border-left: 1px solid gray;box-sizing: border-box;top: 0;bottom: 0;left: 50%;z-index: 0;}#sk-container-id-1 div.sk-serial {display: flex;flex-direction: column;align-items: center;background-color: white;padding-right: 0.2em;padding-left: 0.2em;position: relative;}#sk-container-id-1 div.sk-item {position: relative;z-index: 1;}#sk-container-id-1 div.sk-parallel {display: flex;align-items: stretch;justify-content: center;background-color: white;position: relative;}#sk-container-id-1 div.sk-item::before, #sk-container-id-1 div.sk-parallel-item::before {content: \"\";position: absolute;border-left: 1px solid gray;box-sizing: border-box;top: 0;bottom: 0;left: 50%;z-index: -1;}#sk-container-id-1 div.sk-parallel-item {display: flex;flex-direction: column;z-index: 1;position: relative;background-color: white;}#sk-container-id-1 div.sk-parallel-item:first-child::after {align-self: flex-end;width: 50%;}#sk-container-id-1 div.sk-parallel-item:last-child::after {align-self: flex-start;width: 50%;}#sk-container-id-1 div.sk-parallel-item:only-child::after {width: 0;}#sk-container-id-1 div.sk-dashed-wrapped {border: 1px dashed gray;margin: 0 0.4em 0.5em 0.4em;box-sizing: border-box;padding-bottom: 0.4em;background-color: white;}#sk-container-id-1 div.sk-label label {font-family: monospace;font-weight: bold;display: inline-block;line-height: 1.2em;}#sk-container-id-1 div.sk-label-container {text-align: center;}#sk-container-id-1 div.sk-container {/* jupyter's `normalize.less` sets `[hidden] { display: none; }` but bootstrap.min.css set `[hidden] { display: none !important; }` so we also need the `!important` here to be able to override the default hidden behavior on the sphinx rendered scikit-learn.org. See: https://github.com/scikit-learn/scikit-learn/issues/21755 */display: inline-block !important;position: relative;}#sk-container-id-1 div.sk-text-repr-fallback {display: none;}</style><div id=\"sk-container-id-1\" class=\"sk-top-container\"><div class=\"sk-text-repr-fallback\"><pre>DecisionTreeRegressor()</pre><b>In a Jupyter environment, please rerun this cell to show the HTML representation or trust the notebook. <br />On GitHub, the HTML representation is unable to render, please try loading this page with nbviewer.org.</b></div><div class=\"sk-container\" hidden><div class=\"sk-item\"><div class=\"sk-estimator sk-toggleable\"><input class=\"sk-toggleable__control sk-hidden--visually\" id=\"sk-estimator-id-1\" type=\"checkbox\" checked><label for=\"sk-estimator-id-1\" class=\"sk-toggleable__label sk-toggleable__label-arrow\">DecisionTreeRegressor</label><div class=\"sk-toggleable__content\"><pre>DecisionTreeRegressor()</pre></div></div></div></div></div>"
      ],
      "text/plain": [
       "DecisionTreeRegressor()"
      ]
     },
     "execution_count": 12,
     "metadata": {},
     "output_type": "execute_result"
    }
   ],
   "source": [
    "dt = DecisionTreeRegressor()\n",
    "dt.fit(X_train,y_train)"
   ]
  },
  {
   "cell_type": "code",
   "execution_count": 13,
   "metadata": {},
   "outputs": [],
   "source": [
    "y_pred = dt.predict(X_test)"
   ]
  },
  {
   "cell_type": "code",
   "execution_count": 14,
   "metadata": {},
   "outputs": [
    {
     "data": {
      "text/plain": [
       "0.7998901175472479"
      ]
     },
     "execution_count": 14,
     "metadata": {},
     "output_type": "execute_result"
    }
   ],
   "source": [
    "r2_score(y_test,y_pred)"
   ]
  },
  {
   "cell_type": "code",
   "execution_count": 15,
   "metadata": {},
   "outputs": [],
   "source": [
    "models = {\n",
    "    \"Random Forest\": RandomForestRegressor(),\n",
    "    \"Gradient Boosting\": GradientBoostingRegressor(),\n",
    "    \"XGBRegressor\": XGBRegressor(),\n",
    "    \"CatBoosting Regressor\": CatBoostRegressor(verbose=False),\n",
    "    \"AdaBoost Regressor\": AdaBoostRegressor(),\n",
    "}\n"
   ]
  },
  {
   "cell_type": "code",
   "execution_count": 16,
   "metadata": {},
   "outputs": [],
   "source": [
    "params = {\n",
    "    \"Random Forest\": {\n",
    "        'criterion': ['squared_error', 'friedman_mse', 'absolute_error', 'poisson'],\n",
    "        # 'max_features': ['sqrt', 'log2', None],\n",
    "        'n_estimators': [8, 16, 32, 64, 128, 256]\n",
    "    },\n",
    "    \"Gradient Boosting\": {\n",
    "        'loss': ['squared_error', 'huber', 'absolute_error', 'quantile'],\n",
    "        'learning_rate': [0.1, 0.01, 0.05, 0.001],\n",
    "        # 'subsample': [0.6, 0.7, 0.75, 0.8, 0.85, 0.9],\n",
    "        'criterion': ['squared_error', 'friedman_mse'],\n",
    "        # 'max_features': ['auto', 'sqrt', 'log2'],\n",
    "        'n_estimators': [8, 16, 32, 64, 128, 256]\n",
    "    },\n",
    "    \"XGBRegressor\": {\n",
    "        'learning_rate': [0.1, 0.01, 0.05, 0.001],\n",
    "        'n_estimators': [8, 16, 32, 64, 128, 256]\n",
    "    },\n",
    "    \"CatBoosting Regressor\": {\n",
    "        'depth': [6, 8, 10],\n",
    "        'learning_rate': [0.01, 0.05, 0.1],\n",
    "        'iterations': [30, 50, 100]\n",
    "    },\n",
    "    \"AdaBoost Regressor\": {\n",
    "        'learning_rate': [0.1, 0.01, 0.5, 0.001],\n",
    "        # 'loss': ['linear', 'square', 'exponential'],\n",
    "        'n_estimators': [8, 16, 32, 64, 128, 256]\n",
    "    }\n",
    "}\n"
   ]
  },
  {
   "cell_type": "code",
   "execution_count": 17,
   "metadata": {},
   "outputs": [
    {
     "data": {
      "text/plain": [
       "5"
      ]
     },
     "execution_count": 17,
     "metadata": {},
     "output_type": "execute_result"
    }
   ],
   "source": [
    "len(params.keys())"
   ]
  },
  {
   "cell_type": "code",
   "execution_count": 18,
   "metadata": {},
   "outputs": [],
   "source": [
    "def error_Accuracy(true,pred):\n",
    "    r2_accuracy = r2_score(y_true=true,y_pred=pred)\n",
    "    mse = mean_squared_error(y_true=true,y_pred=pred)\n",
    "    mae = mean_absolute_error(y_true=true,y_pred=pred)\n",
    "    return r2_accuracy,mse,mae"
   ]
  },
  {
   "cell_type": "code",
   "execution_count": 19,
   "metadata": {},
   "outputs": [],
   "source": [
    "\n",
    "class ModelTraining:\n",
    "    def __init__(self):\n",
    "        self.model_list = []\n",
    "        self.accuracy_list = []\n",
    "        self.best_params_dict = {}\n",
    "\n",
    "    def train_model(self, models, params, X_train, y_train, X_test, y_test):\n",
    "        for i, model_name in enumerate(models.keys()):\n",
    "            model = models[model_name]\n",
    "            param = params[model_name]\n",
    "\n",
    "            grid_search_cv = GridSearchCV(estimator=model, param_grid=param, cv=5)\n",
    "            grid_search_cv.fit(X_train, y_train)\n",
    "\n",
    "            best_params = grid_search_cv.best_params_\n",
    "            model.set_params(**best_params)\n",
    "            model.fit(X_train, y_train)\n",
    "            y_pred = model.predict(X_test)\n",
    "\n",
    "            r2_accuracy, mse, mae = error_Accuracy(true=y_test, pred=y_pred)\n",
    "\n",
    "            print(model_name)\n",
    "            self.model_list.append(model_name)\n",
    "\n",
    "            print(\"- Mean Absolute Error: {:.4f}\".format(mae))\n",
    "            print(\"- Mean Squared Error: {:.4f}\".format(mse))\n",
    "            print(\"- R2 Score: {:.4f}\".format(r2_accuracy))\n",
    "            print('\\n')\n",
    "\n",
    "            self.best_params_dict[model_name] = best_params\n",
    "\n",
    "            self.accuracy_list.append(r2_accuracy)\n",
    "\n",
    "    def return_accuracy_list(self):\n",
    "        return self.accuracy_list\n",
    "    \n",
    "    def best_params(self):\n",
    "        return self.best_params_dict\n"
   ]
  },
  {
   "cell_type": "code",
   "execution_count": 20,
   "metadata": {},
   "outputs": [],
   "source": [
    "train_model = ModelTraining()"
   ]
  },
  {
   "cell_type": "code",
   "execution_count": 21,
   "metadata": {},
   "outputs": [
    {
     "name": "stdout",
     "output_type": "stream",
     "text": [
      "Random Forest\n",
      "- Mean Absolute Error: 0.1534\n",
      "- Mean Squared Error: 0.0401\n",
      "- R2 Score: 0.8893\n",
      "\n",
      "\n",
      "Gradient Boosting\n",
      "- Mean Absolute Error: 0.1604\n",
      "- Mean Squared Error: 0.0411\n",
      "- R2 Score: 0.8864\n",
      "\n",
      "\n",
      "XGBRegressor\n",
      "- Mean Absolute Error: 0.1396\n",
      "- Mean Squared Error: 0.0346\n",
      "- R2 Score: 0.9044\n",
      "\n",
      "\n",
      "CatBoosting Regressor\n",
      "- Mean Absolute Error: 0.1583\n",
      "- Mean Squared Error: 0.0427\n",
      "- R2 Score: 0.8818\n",
      "\n",
      "\n",
      "AdaBoost Regressor\n",
      "- Mean Absolute Error: 0.2066\n",
      "- Mean Squared Error: 0.0671\n",
      "- R2 Score: 0.8144\n",
      "\n",
      "\n"
     ]
    }
   ],
   "source": [
    "train_model.train_model(models=models,params=params,X_train=X_train,y_train=y_train,X_test=X_test,y_test=y_test)"
   ]
  },
  {
   "cell_type": "code",
   "execution_count": 22,
   "metadata": {},
   "outputs": [
    {
     "data": {
      "text/plain": [
       "{'Random Forest': {'criterion': 'poisson', 'n_estimators': 64},\n",
       " 'Gradient Boosting': {'criterion': 'friedman_mse',\n",
       "  'learning_rate': 0.1,\n",
       "  'loss': 'huber',\n",
       "  'n_estimators': 256},\n",
       " 'XGBRegressor': {'learning_rate': 0.1, 'n_estimators': 256},\n",
       " 'CatBoosting Regressor': {'depth': 10,\n",
       "  'iterations': 100,\n",
       "  'learning_rate': 0.1},\n",
       " 'AdaBoost Regressor': {'learning_rate': 0.5, 'n_estimators': 128}}"
      ]
     },
     "execution_count": 22,
     "metadata": {},
     "output_type": "execute_result"
    }
   ],
   "source": [
    "train_model.best_params_dict"
   ]
  },
  {
   "cell_type": "code",
   "execution_count": 23,
   "metadata": {},
   "outputs": [
    {
     "data": {
      "text/plain": [
       "[0.8892532733084139,\n",
       " 0.8863883603598792,\n",
       " 0.90441338344959,\n",
       " 0.881847048029996,\n",
       " 0.8144300008146685]"
      ]
     },
     "execution_count": 23,
     "metadata": {},
     "output_type": "execute_result"
    }
   ],
   "source": [
    "train_model.accuracy_list"
   ]
  },
  {
   "cell_type": "code",
   "execution_count": 24,
   "metadata": {},
   "outputs": [
    {
     "data": {
      "text/html": [
       "<div>\n",
       "<style scoped>\n",
       "    .dataframe tbody tr th:only-of-type {\n",
       "        vertical-align: middle;\n",
       "    }\n",
       "\n",
       "    .dataframe tbody tr th {\n",
       "        vertical-align: top;\n",
       "    }\n",
       "\n",
       "    .dataframe thead th {\n",
       "        text-align: right;\n",
       "    }\n",
       "</style>\n",
       "<table border=\"1\" class=\"dataframe\">\n",
       "  <thead>\n",
       "    <tr style=\"text-align: right;\">\n",
       "      <th></th>\n",
       "      <th>model</th>\n",
       "      <th>accuracy</th>\n",
       "    </tr>\n",
       "  </thead>\n",
       "  <tbody>\n",
       "    <tr>\n",
       "      <th>0</th>\n",
       "      <td>Random Forest</td>\n",
       "      <td>0.889253</td>\n",
       "    </tr>\n",
       "    <tr>\n",
       "      <th>1</th>\n",
       "      <td>Gradient Boosting</td>\n",
       "      <td>0.886388</td>\n",
       "    </tr>\n",
       "    <tr>\n",
       "      <th>2</th>\n",
       "      <td>XGBRegressor</td>\n",
       "      <td>0.904413</td>\n",
       "    </tr>\n",
       "    <tr>\n",
       "      <th>3</th>\n",
       "      <td>CatBoosting Regressor</td>\n",
       "      <td>0.881847</td>\n",
       "    </tr>\n",
       "    <tr>\n",
       "      <th>4</th>\n",
       "      <td>AdaBoost Regressor</td>\n",
       "      <td>0.814430</td>\n",
       "    </tr>\n",
       "  </tbody>\n",
       "</table>\n",
       "</div>"
      ],
      "text/plain": [
       "                   model  accuracy\n",
       "0          Random Forest  0.889253\n",
       "1      Gradient Boosting  0.886388\n",
       "2           XGBRegressor  0.904413\n",
       "3  CatBoosting Regressor  0.881847\n",
       "4     AdaBoost Regressor  0.814430"
      ]
     },
     "execution_count": 24,
     "metadata": {},
     "output_type": "execute_result"
    }
   ],
   "source": [
    "model_accuracy=pd.DataFrame(list(zip(list(models.keys()),train_model.accuracy_list)),columns=['model','accuracy'])\n",
    "model_accuracy"
   ]
  },
  {
   "cell_type": "code",
   "execution_count": 40,
   "metadata": {},
   "outputs": [
    {
     "data": {
      "text/plain": [
       "[('Random Forest', 0.8892532733084139),\n",
       " ('Gradient Boosting', 0.8863883603598792),\n",
       " ('XGBRegressor', 0.90441338344959),\n",
       " ('CatBoosting Regressor', 0.881847048029996),\n",
       " ('AdaBoost Regressor', 0.8144300008146685)]"
      ]
     },
     "execution_count": 40,
     "metadata": {},
     "output_type": "execute_result"
    }
   ],
   "source": [
    "list(zip(list(models.keys()),train_model.accuracy_list))"
   ]
  },
  {
   "cell_type": "code",
   "execution_count": 44,
   "metadata": {},
   "outputs": [],
   "source": [
    "best_model = max(list(zip(list(models.keys()),train_model.accuracy_list)))[0]"
   ]
  },
  {
   "cell_type": "code",
   "execution_count": 45,
   "metadata": {},
   "outputs": [
    {
     "data": {
      "text/html": [
       "<style>#sk-container-id-3 {color: black;background-color: white;}#sk-container-id-3 pre{padding: 0;}#sk-container-id-3 div.sk-toggleable {background-color: white;}#sk-container-id-3 label.sk-toggleable__label {cursor: pointer;display: block;width: 100%;margin-bottom: 0;padding: 0.3em;box-sizing: border-box;text-align: center;}#sk-container-id-3 label.sk-toggleable__label-arrow:before {content: \"▸\";float: left;margin-right: 0.25em;color: #696969;}#sk-container-id-3 label.sk-toggleable__label-arrow:hover:before {color: black;}#sk-container-id-3 div.sk-estimator:hover label.sk-toggleable__label-arrow:before {color: black;}#sk-container-id-3 div.sk-toggleable__content {max-height: 0;max-width: 0;overflow: hidden;text-align: left;background-color: #f0f8ff;}#sk-container-id-3 div.sk-toggleable__content pre {margin: 0.2em;color: black;border-radius: 0.25em;background-color: #f0f8ff;}#sk-container-id-3 input.sk-toggleable__control:checked~div.sk-toggleable__content {max-height: 200px;max-width: 100%;overflow: auto;}#sk-container-id-3 input.sk-toggleable__control:checked~label.sk-toggleable__label-arrow:before {content: \"▾\";}#sk-container-id-3 div.sk-estimator input.sk-toggleable__control:checked~label.sk-toggleable__label {background-color: #d4ebff;}#sk-container-id-3 div.sk-label input.sk-toggleable__control:checked~label.sk-toggleable__label {background-color: #d4ebff;}#sk-container-id-3 input.sk-hidden--visually {border: 0;clip: rect(1px 1px 1px 1px);clip: rect(1px, 1px, 1px, 1px);height: 1px;margin: -1px;overflow: hidden;padding: 0;position: absolute;width: 1px;}#sk-container-id-3 div.sk-estimator {font-family: monospace;background-color: #f0f8ff;border: 1px dotted black;border-radius: 0.25em;box-sizing: border-box;margin-bottom: 0.5em;}#sk-container-id-3 div.sk-estimator:hover {background-color: #d4ebff;}#sk-container-id-3 div.sk-parallel-item::after {content: \"\";width: 100%;border-bottom: 1px solid gray;flex-grow: 1;}#sk-container-id-3 div.sk-label:hover label.sk-toggleable__label {background-color: #d4ebff;}#sk-container-id-3 div.sk-serial::before {content: \"\";position: absolute;border-left: 1px solid gray;box-sizing: border-box;top: 0;bottom: 0;left: 50%;z-index: 0;}#sk-container-id-3 div.sk-serial {display: flex;flex-direction: column;align-items: center;background-color: white;padding-right: 0.2em;padding-left: 0.2em;position: relative;}#sk-container-id-3 div.sk-item {position: relative;z-index: 1;}#sk-container-id-3 div.sk-parallel {display: flex;align-items: stretch;justify-content: center;background-color: white;position: relative;}#sk-container-id-3 div.sk-item::before, #sk-container-id-3 div.sk-parallel-item::before {content: \"\";position: absolute;border-left: 1px solid gray;box-sizing: border-box;top: 0;bottom: 0;left: 50%;z-index: -1;}#sk-container-id-3 div.sk-parallel-item {display: flex;flex-direction: column;z-index: 1;position: relative;background-color: white;}#sk-container-id-3 div.sk-parallel-item:first-child::after {align-self: flex-end;width: 50%;}#sk-container-id-3 div.sk-parallel-item:last-child::after {align-self: flex-start;width: 50%;}#sk-container-id-3 div.sk-parallel-item:only-child::after {width: 0;}#sk-container-id-3 div.sk-dashed-wrapped {border: 1px dashed gray;margin: 0 0.4em 0.5em 0.4em;box-sizing: border-box;padding-bottom: 0.4em;background-color: white;}#sk-container-id-3 div.sk-label label {font-family: monospace;font-weight: bold;display: inline-block;line-height: 1.2em;}#sk-container-id-3 div.sk-label-container {text-align: center;}#sk-container-id-3 div.sk-container {/* jupyter's `normalize.less` sets `[hidden] { display: none; }` but bootstrap.min.css set `[hidden] { display: none !important; }` so we also need the `!important` here to be able to override the default hidden behavior on the sphinx rendered scikit-learn.org. See: https://github.com/scikit-learn/scikit-learn/issues/21755 */display: inline-block !important;position: relative;}#sk-container-id-3 div.sk-text-repr-fallback {display: none;}</style><div id=\"sk-container-id-3\" class=\"sk-top-container\"><div class=\"sk-text-repr-fallback\"><pre>XGBRegressor(base_score=None, booster=None, callbacks=None,\n",
       "             colsample_bylevel=None, colsample_bynode=None,\n",
       "             colsample_bytree=None, early_stopping_rounds=None,\n",
       "             enable_categorical=False, eval_metric=None, feature_types=None,\n",
       "             gamma=None, gpu_id=None, grow_policy=None, importance_type=None,\n",
       "             interaction_constraints=None, learning_rate=0.1, max_bin=None,\n",
       "             max_cat_threshold=None, max_cat_to_onehot=None,\n",
       "             max_delta_step=None, max_depth=None, max_leaves=None,\n",
       "             min_child_weight=None, missing=nan, monotone_constraints=None,\n",
       "             n_estimators=256, n_jobs=None, num_parallel_tree=None,\n",
       "             predictor=None, random_state=None, ...)</pre><b>In a Jupyter environment, please rerun this cell to show the HTML representation or trust the notebook. <br />On GitHub, the HTML representation is unable to render, please try loading this page with nbviewer.org.</b></div><div class=\"sk-container\" hidden><div class=\"sk-item\"><div class=\"sk-estimator sk-toggleable\"><input class=\"sk-toggleable__control sk-hidden--visually\" id=\"sk-estimator-id-7\" type=\"checkbox\" checked><label for=\"sk-estimator-id-7\" class=\"sk-toggleable__label sk-toggleable__label-arrow\">XGBRegressor</label><div class=\"sk-toggleable__content\"><pre>XGBRegressor(base_score=None, booster=None, callbacks=None,\n",
       "             colsample_bylevel=None, colsample_bynode=None,\n",
       "             colsample_bytree=None, early_stopping_rounds=None,\n",
       "             enable_categorical=False, eval_metric=None, feature_types=None,\n",
       "             gamma=None, gpu_id=None, grow_policy=None, importance_type=None,\n",
       "             interaction_constraints=None, learning_rate=0.1, max_bin=None,\n",
       "             max_cat_threshold=None, max_cat_to_onehot=None,\n",
       "             max_delta_step=None, max_depth=None, max_leaves=None,\n",
       "             min_child_weight=None, missing=nan, monotone_constraints=None,\n",
       "             n_estimators=256, n_jobs=None, num_parallel_tree=None,\n",
       "             predictor=None, random_state=None, ...)</pre></div></div></div></div></div>"
      ],
      "text/plain": [
       "XGBRegressor(base_score=None, booster=None, callbacks=None,\n",
       "             colsample_bylevel=None, colsample_bynode=None,\n",
       "             colsample_bytree=None, early_stopping_rounds=None,\n",
       "             enable_categorical=False, eval_metric=None, feature_types=None,\n",
       "             gamma=None, gpu_id=None, grow_policy=None, importance_type=None,\n",
       "             interaction_constraints=None, learning_rate=0.1, max_bin=None,\n",
       "             max_cat_threshold=None, max_cat_to_onehot=None,\n",
       "             max_delta_step=None, max_depth=None, max_leaves=None,\n",
       "             min_child_weight=None, missing=nan, monotone_constraints=None,\n",
       "             n_estimators=256, n_jobs=None, num_parallel_tree=None,\n",
       "             predictor=None, random_state=None, ...)"
      ]
     },
     "execution_count": 45,
     "metadata": {},
     "output_type": "execute_result"
    }
   ],
   "source": [
    "models[best_model]"
   ]
  },
  {
   "cell_type": "code",
   "execution_count": 25,
   "metadata": {},
   "outputs": [
    {
     "data": {
      "text/html": [
       "<div>\n",
       "<style scoped>\n",
       "    .dataframe tbody tr th:only-of-type {\n",
       "        vertical-align: middle;\n",
       "    }\n",
       "\n",
       "    .dataframe tbody tr th {\n",
       "        vertical-align: top;\n",
       "    }\n",
       "\n",
       "    .dataframe thead th {\n",
       "        text-align: right;\n",
       "    }\n",
       "</style>\n",
       "<table border=\"1\" class=\"dataframe\">\n",
       "  <thead>\n",
       "    <tr style=\"text-align: right;\">\n",
       "      <th></th>\n",
       "      <th>model</th>\n",
       "      <th>accuracy</th>\n",
       "    </tr>\n",
       "  </thead>\n",
       "  <tbody>\n",
       "    <tr>\n",
       "      <th>2</th>\n",
       "      <td>XGBRegressor</td>\n",
       "      <td>0.904413</td>\n",
       "    </tr>\n",
       "    <tr>\n",
       "      <th>0</th>\n",
       "      <td>Random Forest</td>\n",
       "      <td>0.889253</td>\n",
       "    </tr>\n",
       "    <tr>\n",
       "      <th>1</th>\n",
       "      <td>Gradient Boosting</td>\n",
       "      <td>0.886388</td>\n",
       "    </tr>\n",
       "    <tr>\n",
       "      <th>3</th>\n",
       "      <td>CatBoosting Regressor</td>\n",
       "      <td>0.881847</td>\n",
       "    </tr>\n",
       "  </tbody>\n",
       "</table>\n",
       "</div>"
      ],
      "text/plain": [
       "                   model  accuracy\n",
       "2           XGBRegressor  0.904413\n",
       "0          Random Forest  0.889253\n",
       "1      Gradient Boosting  0.886388\n",
       "3  CatBoosting Regressor  0.881847"
      ]
     },
     "execution_count": 25,
     "metadata": {},
     "output_type": "execute_result"
    }
   ],
   "source": [
    "best_models = model_accuracy.sort_values(by='accuracy',ascending=False).head(4)\n",
    "best_models"
   ]
  },
  {
   "cell_type": "code",
   "execution_count": 26,
   "metadata": {},
   "outputs": [
    {
     "data": {
      "text/html": [
       "<div>\n",
       "<style scoped>\n",
       "    .dataframe tbody tr th:only-of-type {\n",
       "        vertical-align: middle;\n",
       "    }\n",
       "\n",
       "    .dataframe tbody tr th {\n",
       "        vertical-align: top;\n",
       "    }\n",
       "\n",
       "    .dataframe thead th {\n",
       "        text-align: right;\n",
       "    }\n",
       "</style>\n",
       "<table border=\"1\" class=\"dataframe\">\n",
       "  <thead>\n",
       "    <tr style=\"text-align: right;\">\n",
       "      <th></th>\n",
       "      <th>model</th>\n",
       "      <th>accuracy</th>\n",
       "    </tr>\n",
       "  </thead>\n",
       "  <tbody>\n",
       "    <tr>\n",
       "      <th>2</th>\n",
       "      <td>XGBRegressor</td>\n",
       "      <td>0.904413</td>\n",
       "    </tr>\n",
       "    <tr>\n",
       "      <th>0</th>\n",
       "      <td>Random Forest</td>\n",
       "      <td>0.889253</td>\n",
       "    </tr>\n",
       "    <tr>\n",
       "      <th>1</th>\n",
       "      <td>Gradient Boosting</td>\n",
       "      <td>0.886388</td>\n",
       "    </tr>\n",
       "    <tr>\n",
       "      <th>3</th>\n",
       "      <td>CatBoosting Regressor</td>\n",
       "      <td>0.881847</td>\n",
       "    </tr>\n",
       "  </tbody>\n",
       "</table>\n",
       "</div>"
      ],
      "text/plain": [
       "                   model  accuracy\n",
       "2           XGBRegressor  0.904413\n",
       "0          Random Forest  0.889253\n",
       "1      Gradient Boosting  0.886388\n",
       "3  CatBoosting Regressor  0.881847"
      ]
     },
     "execution_count": 26,
     "metadata": {},
     "output_type": "execute_result"
    }
   ],
   "source": [
    "best_models"
   ]
  },
  {
   "attachments": {},
   "cell_type": "markdown",
   "metadata": {},
   "source": [
    "## Voting Regressor"
   ]
  },
  {
   "cell_type": "code",
   "execution_count": 27,
   "metadata": {},
   "outputs": [
    {
     "data": {
      "text/plain": [
       "{'Random Forest': {'criterion': 'poisson', 'n_estimators': 64},\n",
       " 'Gradient Boosting': {'criterion': 'friedman_mse',\n",
       "  'learning_rate': 0.1,\n",
       "  'loss': 'huber',\n",
       "  'n_estimators': 256},\n",
       " 'XGBRegressor': {'learning_rate': 0.1, 'n_estimators': 256},\n",
       " 'CatBoosting Regressor': {'depth': 10,\n",
       "  'iterations': 100,\n",
       "  'learning_rate': 0.1},\n",
       " 'AdaBoost Regressor': {'learning_rate': 0.5, 'n_estimators': 128}}"
      ]
     },
     "execution_count": 27,
     "metadata": {},
     "output_type": "execute_result"
    }
   ],
   "source": [
    "train_model.best_params_dict"
   ]
  },
  {
   "cell_type": "code",
   "execution_count": 28,
   "metadata": {},
   "outputs": [
    {
     "data": {
      "text/plain": [
       "{'criterion': 'poisson', 'n_estimators': 64}"
      ]
     },
     "execution_count": 28,
     "metadata": {},
     "output_type": "execute_result"
    }
   ],
   "source": [
    "train_model.best_params_dict['Random Forest']"
   ]
  },
  {
   "cell_type": "code",
   "execution_count": 29,
   "metadata": {},
   "outputs": [],
   "source": [
    "RandomForest =RandomForestRegressor().set_params(**train_model.best_params_dict['Random Forest'])\n",
    "GradientBoost = GradientBoostingRegressor().set_params(**train_model.best_params_dict['Gradient Boosting'])\n",
    "Xgboost = XGBRegressor().set_params(**train_model.best_params_dict['XGBRegressor'])\n",
    "Catboost = CatBoostRegressor().set_params(**train_model.best_params_dict['CatBoosting Regressor'])\n"
   ]
  },
  {
   "cell_type": "code",
   "execution_count": 30,
   "metadata": {},
   "outputs": [],
   "source": [
    "votingRegressor = VotingRegressor(\n",
    "    estimators=[\n",
    "        ('RandomForest',RandomForest),\n",
    "        ('GradientBoost',GradientBoost),\n",
    "        ('Xgboost',Xgboost),\n",
    "        ('Catboost',Catboost)\n",
    "    ]\n",
    ")"
   ]
  },
  {
   "cell_type": "code",
   "execution_count": 31,
   "metadata": {},
   "outputs": [
    {
     "name": "stdout",
     "output_type": "stream",
     "text": [
      "0:\tlearn: 0.5852870\ttotal: 7.15ms\tremaining: 708ms\n",
      "1:\tlearn: 0.5483074\ttotal: 15.4ms\tremaining: 753ms\n",
      "2:\tlearn: 0.5137807\ttotal: 22.5ms\tremaining: 727ms\n",
      "3:\tlearn: 0.4843408\ttotal: 30.8ms\tremaining: 739ms\n",
      "4:\tlearn: 0.4572128\ttotal: 38ms\tremaining: 722ms\n",
      "5:\tlearn: 0.4338705\ttotal: 39.4ms\tremaining: 617ms\n",
      "6:\tlearn: 0.4091679\ttotal: 47.8ms\tremaining: 635ms\n",
      "7:\tlearn: 0.3877900\ttotal: 50ms\tremaining: 575ms\n",
      "8:\tlearn: 0.3700159\ttotal: 56.9ms\tremaining: 575ms\n",
      "9:\tlearn: 0.3533477\ttotal: 64.3ms\tremaining: 579ms\n",
      "10:\tlearn: 0.3380532\ttotal: 70.7ms\tremaining: 572ms\n",
      "11:\tlearn: 0.3258126\ttotal: 77.6ms\tremaining: 569ms\n",
      "12:\tlearn: 0.3130784\ttotal: 84.7ms\tremaining: 567ms\n",
      "13:\tlearn: 0.3010350\ttotal: 91ms\tremaining: 559ms\n",
      "14:\tlearn: 0.2916865\ttotal: 98.7ms\tremaining: 559ms\n",
      "15:\tlearn: 0.2838042\ttotal: 100ms\tremaining: 525ms\n",
      "16:\tlearn: 0.2754030\ttotal: 107ms\tremaining: 521ms\n",
      "17:\tlearn: 0.2687499\ttotal: 114ms\tremaining: 518ms\n",
      "18:\tlearn: 0.2627074\ttotal: 120ms\tremaining: 512ms\n",
      "19:\tlearn: 0.2566275\ttotal: 128ms\tremaining: 510ms\n",
      "20:\tlearn: 0.2503216\ttotal: 135ms\tremaining: 506ms\n",
      "21:\tlearn: 0.2452977\ttotal: 142ms\tremaining: 502ms\n",
      "22:\tlearn: 0.2414244\ttotal: 146ms\tremaining: 488ms\n",
      "23:\tlearn: 0.2371601\ttotal: 152ms\tremaining: 482ms\n",
      "24:\tlearn: 0.2328919\ttotal: 160ms\tremaining: 479ms\n",
      "25:\tlearn: 0.2290803\ttotal: 166ms\tremaining: 473ms\n",
      "26:\tlearn: 0.2260313\ttotal: 173ms\tremaining: 468ms\n",
      "27:\tlearn: 0.2233711\ttotal: 180ms\tremaining: 464ms\n",
      "28:\tlearn: 0.2201964\ttotal: 187ms\tremaining: 458ms\n",
      "29:\tlearn: 0.2181016\ttotal: 195ms\tremaining: 454ms\n",
      "30:\tlearn: 0.2156746\ttotal: 202ms\tremaining: 449ms\n",
      "31:\tlearn: 0.2134391\ttotal: 210ms\tremaining: 445ms\n",
      "32:\tlearn: 0.2106606\ttotal: 216ms\tremaining: 439ms\n",
      "33:\tlearn: 0.2090801\ttotal: 225ms\tremaining: 436ms\n",
      "34:\tlearn: 0.2079421\ttotal: 226ms\tremaining: 419ms\n",
      "35:\tlearn: 0.2074130\ttotal: 226ms\tremaining: 402ms\n",
      "36:\tlearn: 0.2048326\ttotal: 233ms\tremaining: 397ms\n",
      "37:\tlearn: 0.2026722\ttotal: 240ms\tremaining: 392ms\n",
      "38:\tlearn: 0.2009486\ttotal: 247ms\tremaining: 386ms\n",
      "39:\tlearn: 0.1993167\ttotal: 254ms\tremaining: 381ms\n",
      "40:\tlearn: 0.1978769\ttotal: 261ms\tremaining: 376ms\n",
      "41:\tlearn: 0.1959214\ttotal: 268ms\tremaining: 369ms\n",
      "42:\tlearn: 0.1945171\ttotal: 275ms\tremaining: 365ms\n",
      "43:\tlearn: 0.1930927\ttotal: 281ms\tremaining: 358ms\n",
      "44:\tlearn: 0.1920454\ttotal: 289ms\tremaining: 353ms\n",
      "45:\tlearn: 0.1908860\ttotal: 296ms\tremaining: 347ms\n",
      "46:\tlearn: 0.1892129\ttotal: 303ms\tremaining: 341ms\n",
      "47:\tlearn: 0.1878428\ttotal: 310ms\tremaining: 336ms\n",
      "48:\tlearn: 0.1863151\ttotal: 317ms\tremaining: 329ms\n",
      "49:\tlearn: 0.1853894\ttotal: 324ms\tremaining: 324ms\n",
      "50:\tlearn: 0.1841256\ttotal: 331ms\tremaining: 318ms\n",
      "51:\tlearn: 0.1826307\ttotal: 338ms\tremaining: 312ms\n",
      "52:\tlearn: 0.1808152\ttotal: 345ms\tremaining: 306ms\n",
      "53:\tlearn: 0.1800075\ttotal: 353ms\tremaining: 301ms\n",
      "54:\tlearn: 0.1798121\ttotal: 354ms\tremaining: 290ms\n",
      "55:\tlearn: 0.1788926\ttotal: 361ms\tremaining: 283ms\n",
      "56:\tlearn: 0.1776531\ttotal: 369ms\tremaining: 278ms\n",
      "57:\tlearn: 0.1765751\ttotal: 376ms\tremaining: 272ms\n",
      "58:\tlearn: 0.1757273\ttotal: 383ms\tremaining: 266ms\n",
      "59:\tlearn: 0.1744354\ttotal: 391ms\tremaining: 261ms\n",
      "60:\tlearn: 0.1735867\ttotal: 399ms\tremaining: 255ms\n",
      "61:\tlearn: 0.1723435\ttotal: 407ms\tremaining: 250ms\n",
      "62:\tlearn: 0.1715595\ttotal: 415ms\tremaining: 244ms\n",
      "63:\tlearn: 0.1704576\ttotal: 422ms\tremaining: 238ms\n",
      "64:\tlearn: 0.1694411\ttotal: 429ms\tremaining: 231ms\n",
      "65:\tlearn: 0.1689458\ttotal: 437ms\tremaining: 225ms\n",
      "66:\tlearn: 0.1680708\ttotal: 444ms\tremaining: 219ms\n",
      "67:\tlearn: 0.1664482\ttotal: 452ms\tremaining: 213ms\n",
      "68:\tlearn: 0.1660615\ttotal: 458ms\tremaining: 206ms\n",
      "69:\tlearn: 0.1650848\ttotal: 465ms\tremaining: 199ms\n",
      "70:\tlearn: 0.1645159\ttotal: 472ms\tremaining: 193ms\n",
      "71:\tlearn: 0.1640355\ttotal: 479ms\tremaining: 186ms\n",
      "72:\tlearn: 0.1628702\ttotal: 486ms\tremaining: 180ms\n",
      "73:\tlearn: 0.1618610\ttotal: 492ms\tremaining: 173ms\n",
      "74:\tlearn: 0.1608157\ttotal: 500ms\tremaining: 167ms\n",
      "75:\tlearn: 0.1598768\ttotal: 506ms\tremaining: 160ms\n",
      "76:\tlearn: 0.1595486\ttotal: 514ms\tremaining: 154ms\n",
      "77:\tlearn: 0.1589240\ttotal: 521ms\tremaining: 147ms\n",
      "78:\tlearn: 0.1583449\ttotal: 527ms\tremaining: 140ms\n",
      "79:\tlearn: 0.1575055\ttotal: 535ms\tremaining: 134ms\n",
      "80:\tlearn: 0.1569460\ttotal: 541ms\tremaining: 127ms\n",
      "81:\tlearn: 0.1564668\ttotal: 550ms\tremaining: 121ms\n",
      "82:\tlearn: 0.1560628\ttotal: 556ms\tremaining: 114ms\n",
      "83:\tlearn: 0.1555113\ttotal: 564ms\tremaining: 107ms\n",
      "84:\tlearn: 0.1543768\ttotal: 570ms\tremaining: 101ms\n",
      "85:\tlearn: 0.1536896\ttotal: 577ms\tremaining: 93.9ms\n",
      "86:\tlearn: 0.1533155\ttotal: 584ms\tremaining: 87.3ms\n",
      "87:\tlearn: 0.1527571\ttotal: 591ms\tremaining: 80.5ms\n",
      "88:\tlearn: 0.1524384\ttotal: 598ms\tremaining: 73.9ms\n",
      "89:\tlearn: 0.1517748\ttotal: 604ms\tremaining: 67.2ms\n",
      "90:\tlearn: 0.1509573\ttotal: 613ms\tremaining: 60.6ms\n",
      "91:\tlearn: 0.1501104\ttotal: 620ms\tremaining: 53.9ms\n",
      "92:\tlearn: 0.1499069\ttotal: 627ms\tremaining: 47.2ms\n",
      "93:\tlearn: 0.1493285\ttotal: 633ms\tremaining: 40.4ms\n",
      "94:\tlearn: 0.1485733\ttotal: 640ms\tremaining: 33.7ms\n",
      "95:\tlearn: 0.1474310\ttotal: 647ms\tremaining: 27ms\n",
      "96:\tlearn: 0.1465247\ttotal: 654ms\tremaining: 20.2ms\n",
      "97:\tlearn: 0.1460228\ttotal: 661ms\tremaining: 13.5ms\n",
      "98:\tlearn: 0.1458032\ttotal: 668ms\tremaining: 6.75ms\n",
      "99:\tlearn: 0.1450427\ttotal: 676ms\tremaining: 0us\n"
     ]
    },
    {
     "data": {
      "text/html": [
       "<style>#sk-container-id-2 {color: black;background-color: white;}#sk-container-id-2 pre{padding: 0;}#sk-container-id-2 div.sk-toggleable {background-color: white;}#sk-container-id-2 label.sk-toggleable__label {cursor: pointer;display: block;width: 100%;margin-bottom: 0;padding: 0.3em;box-sizing: border-box;text-align: center;}#sk-container-id-2 label.sk-toggleable__label-arrow:before {content: \"▸\";float: left;margin-right: 0.25em;color: #696969;}#sk-container-id-2 label.sk-toggleable__label-arrow:hover:before {color: black;}#sk-container-id-2 div.sk-estimator:hover label.sk-toggleable__label-arrow:before {color: black;}#sk-container-id-2 div.sk-toggleable__content {max-height: 0;max-width: 0;overflow: hidden;text-align: left;background-color: #f0f8ff;}#sk-container-id-2 div.sk-toggleable__content pre {margin: 0.2em;color: black;border-radius: 0.25em;background-color: #f0f8ff;}#sk-container-id-2 input.sk-toggleable__control:checked~div.sk-toggleable__content {max-height: 200px;max-width: 100%;overflow: auto;}#sk-container-id-2 input.sk-toggleable__control:checked~label.sk-toggleable__label-arrow:before {content: \"▾\";}#sk-container-id-2 div.sk-estimator input.sk-toggleable__control:checked~label.sk-toggleable__label {background-color: #d4ebff;}#sk-container-id-2 div.sk-label input.sk-toggleable__control:checked~label.sk-toggleable__label {background-color: #d4ebff;}#sk-container-id-2 input.sk-hidden--visually {border: 0;clip: rect(1px 1px 1px 1px);clip: rect(1px, 1px, 1px, 1px);height: 1px;margin: -1px;overflow: hidden;padding: 0;position: absolute;width: 1px;}#sk-container-id-2 div.sk-estimator {font-family: monospace;background-color: #f0f8ff;border: 1px dotted black;border-radius: 0.25em;box-sizing: border-box;margin-bottom: 0.5em;}#sk-container-id-2 div.sk-estimator:hover {background-color: #d4ebff;}#sk-container-id-2 div.sk-parallel-item::after {content: \"\";width: 100%;border-bottom: 1px solid gray;flex-grow: 1;}#sk-container-id-2 div.sk-label:hover label.sk-toggleable__label {background-color: #d4ebff;}#sk-container-id-2 div.sk-serial::before {content: \"\";position: absolute;border-left: 1px solid gray;box-sizing: border-box;top: 0;bottom: 0;left: 50%;z-index: 0;}#sk-container-id-2 div.sk-serial {display: flex;flex-direction: column;align-items: center;background-color: white;padding-right: 0.2em;padding-left: 0.2em;position: relative;}#sk-container-id-2 div.sk-item {position: relative;z-index: 1;}#sk-container-id-2 div.sk-parallel {display: flex;align-items: stretch;justify-content: center;background-color: white;position: relative;}#sk-container-id-2 div.sk-item::before, #sk-container-id-2 div.sk-parallel-item::before {content: \"\";position: absolute;border-left: 1px solid gray;box-sizing: border-box;top: 0;bottom: 0;left: 50%;z-index: -1;}#sk-container-id-2 div.sk-parallel-item {display: flex;flex-direction: column;z-index: 1;position: relative;background-color: white;}#sk-container-id-2 div.sk-parallel-item:first-child::after {align-self: flex-end;width: 50%;}#sk-container-id-2 div.sk-parallel-item:last-child::after {align-self: flex-start;width: 50%;}#sk-container-id-2 div.sk-parallel-item:only-child::after {width: 0;}#sk-container-id-2 div.sk-dashed-wrapped {border: 1px dashed gray;margin: 0 0.4em 0.5em 0.4em;box-sizing: border-box;padding-bottom: 0.4em;background-color: white;}#sk-container-id-2 div.sk-label label {font-family: monospace;font-weight: bold;display: inline-block;line-height: 1.2em;}#sk-container-id-2 div.sk-label-container {text-align: center;}#sk-container-id-2 div.sk-container {/* jupyter's `normalize.less` sets `[hidden] { display: none; }` but bootstrap.min.css set `[hidden] { display: none !important; }` so we also need the `!important` here to be able to override the default hidden behavior on the sphinx rendered scikit-learn.org. See: https://github.com/scikit-learn/scikit-learn/issues/21755 */display: inline-block !important;position: relative;}#sk-container-id-2 div.sk-text-repr-fallback {display: none;}</style><div id=\"sk-container-id-2\" class=\"sk-top-container\"><div class=\"sk-text-repr-fallback\"><pre>VotingRegressor(estimators=[(&#x27;RandomForest&#x27;,\n",
       "                             RandomForestRegressor(criterion=&#x27;poisson&#x27;,\n",
       "                                                   n_estimators=64)),\n",
       "                            (&#x27;GradientBoost&#x27;,\n",
       "                             GradientBoostingRegressor(loss=&#x27;huber&#x27;,\n",
       "                                                       n_estimators=256)),\n",
       "                            (&#x27;Xgboost&#x27;,\n",
       "                             XGBRegressor(base_score=None, booster=None,\n",
       "                                          callbacks=None,\n",
       "                                          colsample_bylevel=None,\n",
       "                                          colsample_bynode=None,\n",
       "                                          colsample_bytree=None,\n",
       "                                          early_stopping_rounds=None,\n",
       "                                          enable_ca...\n",
       "                                          learning_rate=0.1, max_bin=None,\n",
       "                                          max_cat_threshold=None,\n",
       "                                          max_cat_to_onehot=None,\n",
       "                                          max_delta_step=None, max_depth=None,\n",
       "                                          max_leaves=None,\n",
       "                                          min_child_weight=None, missing=nan,\n",
       "                                          monotone_constraints=None,\n",
       "                                          n_estimators=256, n_jobs=None,\n",
       "                                          num_parallel_tree=None,\n",
       "                                          predictor=None, random_state=None, ...)),\n",
       "                            (&#x27;Catboost&#x27;,\n",
       "                             &lt;catboost.core.CatBoostRegressor object at 0x000001889FBBE0D0&gt;)])</pre><b>In a Jupyter environment, please rerun this cell to show the HTML representation or trust the notebook. <br />On GitHub, the HTML representation is unable to render, please try loading this page with nbviewer.org.</b></div><div class=\"sk-container\" hidden><div class=\"sk-item sk-dashed-wrapped\"><div class=\"sk-label-container\"><div class=\"sk-label sk-toggleable\"><input class=\"sk-toggleable__control sk-hidden--visually\" id=\"sk-estimator-id-2\" type=\"checkbox\" ><label for=\"sk-estimator-id-2\" class=\"sk-toggleable__label sk-toggleable__label-arrow\">VotingRegressor</label><div class=\"sk-toggleable__content\"><pre>VotingRegressor(estimators=[(&#x27;RandomForest&#x27;,\n",
       "                             RandomForestRegressor(criterion=&#x27;poisson&#x27;,\n",
       "                                                   n_estimators=64)),\n",
       "                            (&#x27;GradientBoost&#x27;,\n",
       "                             GradientBoostingRegressor(loss=&#x27;huber&#x27;,\n",
       "                                                       n_estimators=256)),\n",
       "                            (&#x27;Xgboost&#x27;,\n",
       "                             XGBRegressor(base_score=None, booster=None,\n",
       "                                          callbacks=None,\n",
       "                                          colsample_bylevel=None,\n",
       "                                          colsample_bynode=None,\n",
       "                                          colsample_bytree=None,\n",
       "                                          early_stopping_rounds=None,\n",
       "                                          enable_ca...\n",
       "                                          learning_rate=0.1, max_bin=None,\n",
       "                                          max_cat_threshold=None,\n",
       "                                          max_cat_to_onehot=None,\n",
       "                                          max_delta_step=None, max_depth=None,\n",
       "                                          max_leaves=None,\n",
       "                                          min_child_weight=None, missing=nan,\n",
       "                                          monotone_constraints=None,\n",
       "                                          n_estimators=256, n_jobs=None,\n",
       "                                          num_parallel_tree=None,\n",
       "                                          predictor=None, random_state=None, ...)),\n",
       "                            (&#x27;Catboost&#x27;,\n",
       "                             &lt;catboost.core.CatBoostRegressor object at 0x000001889FBBE0D0&gt;)])</pre></div></div></div><div class=\"sk-parallel\"><div class=\"sk-parallel-item\"><div class=\"sk-item\"><div class=\"sk-label-container\"><div class=\"sk-label sk-toggleable\"><label>RandomForest</label></div></div><div class=\"sk-serial\"><div class=\"sk-item\"><div class=\"sk-estimator sk-toggleable\"><input class=\"sk-toggleable__control sk-hidden--visually\" id=\"sk-estimator-id-3\" type=\"checkbox\" ><label for=\"sk-estimator-id-3\" class=\"sk-toggleable__label sk-toggleable__label-arrow\">RandomForestRegressor</label><div class=\"sk-toggleable__content\"><pre>RandomForestRegressor(criterion=&#x27;poisson&#x27;, n_estimators=64)</pre></div></div></div></div></div></div><div class=\"sk-parallel-item\"><div class=\"sk-item\"><div class=\"sk-label-container\"><div class=\"sk-label sk-toggleable\"><label>GradientBoost</label></div></div><div class=\"sk-serial\"><div class=\"sk-item\"><div class=\"sk-estimator sk-toggleable\"><input class=\"sk-toggleable__control sk-hidden--visually\" id=\"sk-estimator-id-4\" type=\"checkbox\" ><label for=\"sk-estimator-id-4\" class=\"sk-toggleable__label sk-toggleable__label-arrow\">GradientBoostingRegressor</label><div class=\"sk-toggleable__content\"><pre>GradientBoostingRegressor(loss=&#x27;huber&#x27;, n_estimators=256)</pre></div></div></div></div></div></div><div class=\"sk-parallel-item\"><div class=\"sk-item\"><div class=\"sk-label-container\"><div class=\"sk-label sk-toggleable\"><label>Xgboost</label></div></div><div class=\"sk-serial\"><div class=\"sk-item\"><div class=\"sk-estimator sk-toggleable\"><input class=\"sk-toggleable__control sk-hidden--visually\" id=\"sk-estimator-id-5\" type=\"checkbox\" ><label for=\"sk-estimator-id-5\" class=\"sk-toggleable__label sk-toggleable__label-arrow\">XGBRegressor</label><div class=\"sk-toggleable__content\"><pre>XGBRegressor(base_score=None, booster=None, callbacks=None,\n",
       "             colsample_bylevel=None, colsample_bynode=None,\n",
       "             colsample_bytree=None, early_stopping_rounds=None,\n",
       "             enable_categorical=False, eval_metric=None, feature_types=None,\n",
       "             gamma=None, gpu_id=None, grow_policy=None, importance_type=None,\n",
       "             interaction_constraints=None, learning_rate=0.1, max_bin=None,\n",
       "             max_cat_threshold=None, max_cat_to_onehot=None,\n",
       "             max_delta_step=None, max_depth=None, max_leaves=None,\n",
       "             min_child_weight=None, missing=nan, monotone_constraints=None,\n",
       "             n_estimators=256, n_jobs=None, num_parallel_tree=None,\n",
       "             predictor=None, random_state=None, ...)</pre></div></div></div></div></div></div><div class=\"sk-parallel-item\"><div class=\"sk-item\"><div class=\"sk-label-container\"><div class=\"sk-label sk-toggleable\"><label>Catboost</label></div></div><div class=\"sk-serial\"><div class=\"sk-item\"><div class=\"sk-estimator sk-toggleable\"><input class=\"sk-toggleable__control sk-hidden--visually\" id=\"sk-estimator-id-6\" type=\"checkbox\" ><label for=\"sk-estimator-id-6\" class=\"sk-toggleable__label sk-toggleable__label-arrow\">CatBoostRegressor</label><div class=\"sk-toggleable__content\"><pre>&lt;catboost.core.CatBoostRegressor object at 0x000001889FBBE0D0&gt;</pre></div></div></div></div></div></div></div></div></div></div>"
      ],
      "text/plain": [
       "VotingRegressor(estimators=[('RandomForest',\n",
       "                             RandomForestRegressor(criterion='poisson',\n",
       "                                                   n_estimators=64)),\n",
       "                            ('GradientBoost',\n",
       "                             GradientBoostingRegressor(loss='huber',\n",
       "                                                       n_estimators=256)),\n",
       "                            ('Xgboost',\n",
       "                             XGBRegressor(base_score=None, booster=None,\n",
       "                                          callbacks=None,\n",
       "                                          colsample_bylevel=None,\n",
       "                                          colsample_bynode=None,\n",
       "                                          colsample_bytree=None,\n",
       "                                          early_stopping_rounds=None,\n",
       "                                          enable_ca...\n",
       "                                          learning_rate=0.1, max_bin=None,\n",
       "                                          max_cat_threshold=None,\n",
       "                                          max_cat_to_onehot=None,\n",
       "                                          max_delta_step=None, max_depth=None,\n",
       "                                          max_leaves=None,\n",
       "                                          min_child_weight=None, missing=nan,\n",
       "                                          monotone_constraints=None,\n",
       "                                          n_estimators=256, n_jobs=None,\n",
       "                                          num_parallel_tree=None,\n",
       "                                          predictor=None, random_state=None, ...)),\n",
       "                            ('Catboost',\n",
       "                             <catboost.core.CatBoostRegressor object at 0x000001889FBBE0D0>)])"
      ]
     },
     "execution_count": 31,
     "metadata": {},
     "output_type": "execute_result"
    }
   ],
   "source": [
    "votingRegressor.fit(X_train,y_train)"
   ]
  },
  {
   "cell_type": "code",
   "execution_count": 32,
   "metadata": {},
   "outputs": [],
   "source": [
    "y_pred_voting_regressor = votingRegressor.predict(X_test)"
   ]
  },
  {
   "cell_type": "code",
   "execution_count": 33,
   "metadata": {},
   "outputs": [
    {
     "name": "stdout",
     "output_type": "stream",
     "text": [
      "- Mean Absolute Error: 0.1449\n",
      "- Mean Squared Error: 0.0343\n",
      "- R2 Score: 0.9051\n"
     ]
    }
   ],
   "source": [
    "r2_accuracy, mse, mae = error_Accuracy(true=y_test, pred=y_pred_voting_regressor)\n",
    "print(\"- Mean Absolute Error: {:.4f}\".format(mae))\n",
    "print(\"- Mean Squared Error: {:.4f}\".format(mse))\n",
    "print(\"- R2 Score: {:.4f}\".format(r2_accuracy))"
   ]
  },
  {
   "attachments": {},
   "cell_type": "markdown",
   "metadata": {},
   "source": [
    "# Finally Voting Regressor is the best Algo For my MODEL"
   ]
  },
  {
   "attachments": {},
   "cell_type": "markdown",
   "metadata": {},
   "source": [
    "## Pickling Entire Model"
   ]
  },
  {
   "cell_type": "code",
   "execution_count": 34,
   "metadata": {},
   "outputs": [
    {
     "data": {
      "text/plain": [
       "((1017, 12), (255, 12), (1017,), (255,))"
      ]
     },
     "execution_count": 34,
     "metadata": {},
     "output_type": "execute_result"
    }
   ],
   "source": [
    "X = df.drop(columns=['Price'])\n",
    "y = df['Price']\n",
    "X_train, X_test, y_train, y_test = train_test_split(\n",
    "      X, y, test_size=0.2, random_state=1)\n",
    "\n",
    "X_train.shape , X_test.shape , y_train.shape ,y_test.shape\n"
   ]
  },
  {
   "cell_type": "code",
   "execution_count": 35,
   "metadata": {},
   "outputs": [
    {
     "data": {
      "text/plain": [
       "208     11.254190\n",
       "1015    11.073937\n",
       "754     10.720680\n",
       "76      10.227465\n",
       "228     10.767905\n",
       "          ...    \n",
       "715     10.729081\n",
       "905     11.624777\n",
       "1097    11.352695\n",
       "235     10.776844\n",
       "1062    10.301710\n",
       "Name: Price, Length: 1017, dtype: float64"
      ]
     },
     "execution_count": 35,
     "metadata": {},
     "output_type": "execute_result"
    }
   ],
   "source": [
    "y_train"
   ]
  },
  {
   "cell_type": "code",
   "execution_count": 36,
   "metadata": {},
   "outputs": [
    {
     "name": "stderr",
     "output_type": "stream",
     "text": [
      "c:\\Users\\Gyanprakash\\AppData\\Local\\Programs\\Python\\Python311\\Lib\\site-packages\\sklearn\\preprocessing\\_encoders.py:868: FutureWarning: `sparse` was renamed to `sparse_output` in version 1.2 and will be removed in 1.4. `sparse_output` is ignored unless you leave `sparse` to its default value.\n",
      "  warnings.warn(\n"
     ]
    },
    {
     "name": "stdout",
     "output_type": "stream",
     "text": [
      "0:\tlearn: 0.5852870\ttotal: 7.54ms\tremaining: 746ms\n",
      "1:\tlearn: 0.5483074\ttotal: 15.1ms\tremaining: 740ms\n",
      "2:\tlearn: 0.5137807\ttotal: 22.3ms\tremaining: 721ms\n",
      "3:\tlearn: 0.4843408\ttotal: 30.4ms\tremaining: 730ms\n",
      "4:\tlearn: 0.4572128\ttotal: 37.5ms\tremaining: 712ms\n",
      "5:\tlearn: 0.4338705\ttotal: 38.9ms\tremaining: 610ms\n",
      "6:\tlearn: 0.4091679\ttotal: 46.6ms\tremaining: 619ms\n",
      "7:\tlearn: 0.3877900\ttotal: 48.6ms\tremaining: 559ms\n",
      "8:\tlearn: 0.3700159\ttotal: 56.2ms\tremaining: 568ms\n",
      "9:\tlearn: 0.3533477\ttotal: 64ms\tremaining: 576ms\n",
      "10:\tlearn: 0.3380532\ttotal: 70.8ms\tremaining: 573ms\n",
      "11:\tlearn: 0.3258126\ttotal: 78.1ms\tremaining: 573ms\n",
      "12:\tlearn: 0.3130784\ttotal: 84.9ms\tremaining: 568ms\n",
      "13:\tlearn: 0.3010350\ttotal: 92.9ms\tremaining: 571ms\n",
      "14:\tlearn: 0.2916865\ttotal: 99.6ms\tremaining: 565ms\n",
      "15:\tlearn: 0.2838042\ttotal: 101ms\tremaining: 530ms\n",
      "16:\tlearn: 0.2754030\ttotal: 109ms\tremaining: 531ms\n",
      "17:\tlearn: 0.2687499\ttotal: 116ms\tremaining: 527ms\n",
      "18:\tlearn: 0.2627074\ttotal: 123ms\tremaining: 526ms\n",
      "19:\tlearn: 0.2566275\ttotal: 130ms\tremaining: 521ms\n",
      "20:\tlearn: 0.2503216\ttotal: 137ms\tremaining: 516ms\n",
      "21:\tlearn: 0.2452977\ttotal: 145ms\tremaining: 513ms\n",
      "22:\tlearn: 0.2414244\ttotal: 148ms\tremaining: 496ms\n",
      "23:\tlearn: 0.2371601\ttotal: 155ms\tremaining: 492ms\n",
      "24:\tlearn: 0.2328919\ttotal: 162ms\tremaining: 486ms\n",
      "25:\tlearn: 0.2290803\ttotal: 169ms\tremaining: 480ms\n",
      "26:\tlearn: 0.2260313\ttotal: 176ms\tremaining: 476ms\n",
      "27:\tlearn: 0.2233711\ttotal: 183ms\tremaining: 469ms\n",
      "28:\tlearn: 0.2201964\ttotal: 190ms\tremaining: 466ms\n",
      "29:\tlearn: 0.2181016\ttotal: 197ms\tremaining: 460ms\n",
      "30:\tlearn: 0.2156746\ttotal: 205ms\tremaining: 455ms\n",
      "31:\tlearn: 0.2134391\ttotal: 212ms\tremaining: 450ms\n",
      "32:\tlearn: 0.2106606\ttotal: 219ms\tremaining: 445ms\n",
      "33:\tlearn: 0.2090801\ttotal: 227ms\tremaining: 440ms\n",
      "34:\tlearn: 0.2079421\ttotal: 228ms\tremaining: 423ms\n",
      "35:\tlearn: 0.2074130\ttotal: 228ms\tremaining: 405ms\n",
      "36:\tlearn: 0.2048326\ttotal: 236ms\tremaining: 402ms\n",
      "37:\tlearn: 0.2026722\ttotal: 243ms\tremaining: 397ms\n",
      "38:\tlearn: 0.2009486\ttotal: 251ms\tremaining: 393ms\n",
      "39:\tlearn: 0.1993167\ttotal: 259ms\tremaining: 388ms\n",
      "40:\tlearn: 0.1978769\ttotal: 266ms\tremaining: 382ms\n",
      "41:\tlearn: 0.1959214\ttotal: 273ms\tremaining: 377ms\n",
      "42:\tlearn: 0.1945171\ttotal: 280ms\tremaining: 371ms\n",
      "43:\tlearn: 0.1930927\ttotal: 287ms\tremaining: 366ms\n",
      "44:\tlearn: 0.1920454\ttotal: 295ms\tremaining: 360ms\n",
      "45:\tlearn: 0.1908860\ttotal: 304ms\tremaining: 357ms\n",
      "46:\tlearn: 0.1892129\ttotal: 311ms\tremaining: 351ms\n",
      "47:\tlearn: 0.1878428\ttotal: 319ms\tremaining: 345ms\n",
      "48:\tlearn: 0.1863151\ttotal: 325ms\tremaining: 339ms\n",
      "49:\tlearn: 0.1853894\ttotal: 333ms\tremaining: 333ms\n",
      "50:\tlearn: 0.1841256\ttotal: 340ms\tremaining: 327ms\n",
      "51:\tlearn: 0.1826307\ttotal: 348ms\tremaining: 321ms\n",
      "52:\tlearn: 0.1808152\ttotal: 355ms\tremaining: 315ms\n",
      "53:\tlearn: 0.1800075\ttotal: 361ms\tremaining: 308ms\n",
      "54:\tlearn: 0.1798121\ttotal: 362ms\tremaining: 296ms\n",
      "55:\tlearn: 0.1788926\ttotal: 369ms\tremaining: 290ms\n",
      "56:\tlearn: 0.1776531\ttotal: 376ms\tremaining: 283ms\n",
      "57:\tlearn: 0.1765751\ttotal: 383ms\tremaining: 278ms\n",
      "58:\tlearn: 0.1757273\ttotal: 390ms\tremaining: 271ms\n",
      "59:\tlearn: 0.1744354\ttotal: 398ms\tremaining: 266ms\n",
      "60:\tlearn: 0.1735867\ttotal: 405ms\tremaining: 259ms\n",
      "61:\tlearn: 0.1723435\ttotal: 413ms\tremaining: 253ms\n",
      "62:\tlearn: 0.1715595\ttotal: 420ms\tremaining: 247ms\n",
      "63:\tlearn: 0.1704576\ttotal: 426ms\tremaining: 240ms\n",
      "64:\tlearn: 0.1694411\ttotal: 434ms\tremaining: 234ms\n",
      "65:\tlearn: 0.1689458\ttotal: 440ms\tremaining: 227ms\n",
      "66:\tlearn: 0.1680708\ttotal: 448ms\tremaining: 221ms\n",
      "67:\tlearn: 0.1664482\ttotal: 454ms\tremaining: 214ms\n",
      "68:\tlearn: 0.1660615\ttotal: 462ms\tremaining: 207ms\n",
      "69:\tlearn: 0.1650848\ttotal: 468ms\tremaining: 201ms\n",
      "70:\tlearn: 0.1645159\ttotal: 475ms\tremaining: 194ms\n",
      "71:\tlearn: 0.1640355\ttotal: 483ms\tremaining: 188ms\n",
      "72:\tlearn: 0.1628702\ttotal: 489ms\tremaining: 181ms\n",
      "73:\tlearn: 0.1618610\ttotal: 497ms\tremaining: 175ms\n",
      "74:\tlearn: 0.1608157\ttotal: 504ms\tremaining: 168ms\n",
      "75:\tlearn: 0.1598768\ttotal: 511ms\tremaining: 161ms\n",
      "76:\tlearn: 0.1595486\ttotal: 518ms\tremaining: 155ms\n",
      "77:\tlearn: 0.1589240\ttotal: 526ms\tremaining: 148ms\n",
      "78:\tlearn: 0.1583449\ttotal: 533ms\tremaining: 142ms\n",
      "79:\tlearn: 0.1575055\ttotal: 539ms\tremaining: 135ms\n",
      "80:\tlearn: 0.1569460\ttotal: 547ms\tremaining: 128ms\n",
      "81:\tlearn: 0.1564668\ttotal: 553ms\tremaining: 121ms\n",
      "82:\tlearn: 0.1560628\ttotal: 561ms\tremaining: 115ms\n",
      "83:\tlearn: 0.1555113\ttotal: 568ms\tremaining: 108ms\n",
      "84:\tlearn: 0.1543768\ttotal: 575ms\tremaining: 102ms\n",
      "85:\tlearn: 0.1536896\ttotal: 582ms\tremaining: 94.8ms\n",
      "86:\tlearn: 0.1533155\ttotal: 589ms\tremaining: 88ms\n",
      "87:\tlearn: 0.1527571\ttotal: 596ms\tremaining: 81.3ms\n",
      "88:\tlearn: 0.1524384\ttotal: 604ms\tremaining: 74.6ms\n",
      "89:\tlearn: 0.1517748\ttotal: 611ms\tremaining: 67.9ms\n",
      "90:\tlearn: 0.1509573\ttotal: 618ms\tremaining: 61.1ms\n",
      "91:\tlearn: 0.1501104\ttotal: 626ms\tremaining: 54.4ms\n",
      "92:\tlearn: 0.1499069\ttotal: 633ms\tremaining: 47.6ms\n",
      "93:\tlearn: 0.1493285\ttotal: 640ms\tremaining: 40.9ms\n",
      "94:\tlearn: 0.1485733\ttotal: 647ms\tremaining: 34ms\n",
      "95:\tlearn: 0.1474310\ttotal: 654ms\tremaining: 27.2ms\n",
      "96:\tlearn: 0.1465247\ttotal: 661ms\tremaining: 20.4ms\n",
      "97:\tlearn: 0.1460228\ttotal: 668ms\tremaining: 13.6ms\n",
      "98:\tlearn: 0.1458032\ttotal: 676ms\tremaining: 6.82ms\n",
      "99:\tlearn: 0.1450427\ttotal: 682ms\tremaining: 0us\n"
     ]
    },
    {
     "data": {
      "text/plain": [
       "array([[11.30012173, 11.27271795, 11.26846313, 11.27339603],\n",
       "       [11.07239642, 10.96735978, 11.03379059, 11.02431968],\n",
       "       [10.67882669, 10.51583158, 10.71079922, 10.55949221],\n",
       "       ...,\n",
       "       [11.25509927, 11.1515882 , 11.32951164, 11.16498864],\n",
       "       [10.8777631 , 10.79864121, 10.80856609, 10.84839161],\n",
       "       [10.36021396, 10.47695599, 10.33291721, 10.43438214]])"
      ]
     },
     "execution_count": 36,
     "metadata": {},
     "output_type": "execute_result"
    }
   ],
   "source": [
    "preprocess_model = Pipeline(\n",
    "    steps=[\n",
    "   ( 'preprocessor_obj',preprocessor_obj),\n",
    "   ('votingRegressor',votingRegressor)\n",
    "    ]\n",
    ")\n",
    "preprocess_model.fit_transform(X_train,y_train)\n"
   ]
  },
  {
   "cell_type": "code",
   "execution_count": 37,
   "metadata": {},
   "outputs": [],
   "source": [
    "os.makedirs(name='model',exist_ok=True)\n",
    "pickle.dump(df,open(file='model/df.pkl',mode='wb'))\n",
    "# pickle.dump(votingRegressor,open(file='model/model.pkl',mode='wb'))\n",
    "# pickle.dump(preprocessor_obj,open(file='model/preprocessor.pkl',mode='wb'))\n",
    "pickle.dump(preprocess_model,open(file='model/preprocess_model.pkl',mode='wb'))"
   ]
  },
  {
   "cell_type": "code",
   "execution_count": 38,
   "metadata": {},
   "outputs": [
    {
     "data": {
      "text/html": [
       "<div>\n",
       "<style scoped>\n",
       "    .dataframe tbody tr th:only-of-type {\n",
       "        vertical-align: middle;\n",
       "    }\n",
       "\n",
       "    .dataframe tbody tr th {\n",
       "        vertical-align: top;\n",
       "    }\n",
       "\n",
       "    .dataframe thead th {\n",
       "        text-align: right;\n",
       "    }\n",
       "</style>\n",
       "<table border=\"1\" class=\"dataframe\">\n",
       "  <thead>\n",
       "    <tr style=\"text-align: right;\">\n",
       "      <th></th>\n",
       "      <th>Company</th>\n",
       "      <th>TypeName</th>\n",
       "      <th>Ram</th>\n",
       "      <th>Weight</th>\n",
       "      <th>Price</th>\n",
       "      <th>TouchScreen</th>\n",
       "      <th>Ips</th>\n",
       "      <th>Ppi</th>\n",
       "      <th>Cpu_brand</th>\n",
       "      <th>HDD</th>\n",
       "      <th>SSD</th>\n",
       "      <th>Gpu_brand</th>\n",
       "      <th>Os</th>\n",
       "    </tr>\n",
       "  </thead>\n",
       "  <tbody>\n",
       "    <tr>\n",
       "      <th>0</th>\n",
       "      <td>Apple</td>\n",
       "      <td>Ultrabook</td>\n",
       "      <td>8</td>\n",
       "      <td>1.37</td>\n",
       "      <td>11.175755</td>\n",
       "      <td>0</td>\n",
       "      <td>1</td>\n",
       "      <td>226.983005</td>\n",
       "      <td>Intel Core i5</td>\n",
       "      <td>0</td>\n",
       "      <td>128</td>\n",
       "      <td>Intel</td>\n",
       "      <td>Mac</td>\n",
       "    </tr>\n",
       "    <tr>\n",
       "      <th>1</th>\n",
       "      <td>Apple</td>\n",
       "      <td>Ultrabook</td>\n",
       "      <td>8</td>\n",
       "      <td>1.34</td>\n",
       "      <td>10.776777</td>\n",
       "      <td>0</td>\n",
       "      <td>0</td>\n",
       "      <td>127.677940</td>\n",
       "      <td>Intel Core i5</td>\n",
       "      <td>0</td>\n",
       "      <td>0</td>\n",
       "      <td>Intel</td>\n",
       "      <td>Mac</td>\n",
       "    </tr>\n",
       "    <tr>\n",
       "      <th>2</th>\n",
       "      <td>HP</td>\n",
       "      <td>Notebook</td>\n",
       "      <td>8</td>\n",
       "      <td>1.86</td>\n",
       "      <td>10.329931</td>\n",
       "      <td>0</td>\n",
       "      <td>0</td>\n",
       "      <td>141.211998</td>\n",
       "      <td>Intel Core i5</td>\n",
       "      <td>0</td>\n",
       "      <td>256</td>\n",
       "      <td>Intel</td>\n",
       "      <td>Others</td>\n",
       "    </tr>\n",
       "    <tr>\n",
       "      <th>3</th>\n",
       "      <td>Apple</td>\n",
       "      <td>Ultrabook</td>\n",
       "      <td>16</td>\n",
       "      <td>1.83</td>\n",
       "      <td>11.814476</td>\n",
       "      <td>0</td>\n",
       "      <td>1</td>\n",
       "      <td>220.534624</td>\n",
       "      <td>Intel Core i7</td>\n",
       "      <td>0</td>\n",
       "      <td>512</td>\n",
       "      <td>AMD</td>\n",
       "      <td>Mac</td>\n",
       "    </tr>\n",
       "    <tr>\n",
       "      <th>4</th>\n",
       "      <td>Apple</td>\n",
       "      <td>Ultrabook</td>\n",
       "      <td>8</td>\n",
       "      <td>1.37</td>\n",
       "      <td>11.473101</td>\n",
       "      <td>0</td>\n",
       "      <td>1</td>\n",
       "      <td>226.983005</td>\n",
       "      <td>Intel Core i5</td>\n",
       "      <td>0</td>\n",
       "      <td>256</td>\n",
       "      <td>Intel</td>\n",
       "      <td>Mac</td>\n",
       "    </tr>\n",
       "    <tr>\n",
       "      <th>...</th>\n",
       "      <td>...</td>\n",
       "      <td>...</td>\n",
       "      <td>...</td>\n",
       "      <td>...</td>\n",
       "      <td>...</td>\n",
       "      <td>...</td>\n",
       "      <td>...</td>\n",
       "      <td>...</td>\n",
       "      <td>...</td>\n",
       "      <td>...</td>\n",
       "      <td>...</td>\n",
       "      <td>...</td>\n",
       "      <td>...</td>\n",
       "    </tr>\n",
       "    <tr>\n",
       "      <th>1268</th>\n",
       "      <td>Asus</td>\n",
       "      <td>Notebook</td>\n",
       "      <td>4</td>\n",
       "      <td>2.20</td>\n",
       "      <td>10.555257</td>\n",
       "      <td>0</td>\n",
       "      <td>0</td>\n",
       "      <td>100.454670</td>\n",
       "      <td>Intel Core i7</td>\n",
       "      <td>500</td>\n",
       "      <td>0</td>\n",
       "      <td>Nvidia</td>\n",
       "      <td>Windows</td>\n",
       "    </tr>\n",
       "    <tr>\n",
       "      <th>1269</th>\n",
       "      <td>Lenovo</td>\n",
       "      <td>2 in 1 Convertible</td>\n",
       "      <td>4</td>\n",
       "      <td>1.80</td>\n",
       "      <td>10.433899</td>\n",
       "      <td>1</td>\n",
       "      <td>1</td>\n",
       "      <td>157.350512</td>\n",
       "      <td>Intel Core i7</td>\n",
       "      <td>0</td>\n",
       "      <td>128</td>\n",
       "      <td>Intel</td>\n",
       "      <td>Windows</td>\n",
       "    </tr>\n",
       "    <tr>\n",
       "      <th>1270</th>\n",
       "      <td>Lenovo</td>\n",
       "      <td>2 in 1 Convertible</td>\n",
       "      <td>16</td>\n",
       "      <td>1.30</td>\n",
       "      <td>11.288115</td>\n",
       "      <td>1</td>\n",
       "      <td>1</td>\n",
       "      <td>276.053530</td>\n",
       "      <td>Intel Core i7</td>\n",
       "      <td>0</td>\n",
       "      <td>512</td>\n",
       "      <td>Intel</td>\n",
       "      <td>Windows</td>\n",
       "    </tr>\n",
       "    <tr>\n",
       "      <th>1271</th>\n",
       "      <td>Lenovo</td>\n",
       "      <td>Notebook</td>\n",
       "      <td>2</td>\n",
       "      <td>1.50</td>\n",
       "      <td>9.409283</td>\n",
       "      <td>0</td>\n",
       "      <td>0</td>\n",
       "      <td>111.935204</td>\n",
       "      <td>Other Intel Processor</td>\n",
       "      <td>0</td>\n",
       "      <td>0</td>\n",
       "      <td>Intel</td>\n",
       "      <td>Windows</td>\n",
       "    </tr>\n",
       "    <tr>\n",
       "      <th>1272</th>\n",
       "      <td>HP</td>\n",
       "      <td>Notebook</td>\n",
       "      <td>6</td>\n",
       "      <td>2.19</td>\n",
       "      <td>10.614129</td>\n",
       "      <td>0</td>\n",
       "      <td>0</td>\n",
       "      <td>100.454670</td>\n",
       "      <td>Intel Core i7</td>\n",
       "      <td>1000</td>\n",
       "      <td>0</td>\n",
       "      <td>AMD</td>\n",
       "      <td>Windows</td>\n",
       "    </tr>\n",
       "  </tbody>\n",
       "</table>\n",
       "<p>1272 rows × 13 columns</p>\n",
       "</div>"
      ],
      "text/plain": [
       "     Company            TypeName  Ram  Weight      Price  TouchScreen  Ips   \n",
       "0      Apple           Ultrabook    8    1.37  11.175755            0    1  \\\n",
       "1      Apple           Ultrabook    8    1.34  10.776777            0    0   \n",
       "2         HP            Notebook    8    1.86  10.329931            0    0   \n",
       "3      Apple           Ultrabook   16    1.83  11.814476            0    1   \n",
       "4      Apple           Ultrabook    8    1.37  11.473101            0    1   \n",
       "...      ...                 ...  ...     ...        ...          ...  ...   \n",
       "1268    Asus            Notebook    4    2.20  10.555257            0    0   \n",
       "1269  Lenovo  2 in 1 Convertible    4    1.80  10.433899            1    1   \n",
       "1270  Lenovo  2 in 1 Convertible   16    1.30  11.288115            1    1   \n",
       "1271  Lenovo            Notebook    2    1.50   9.409283            0    0   \n",
       "1272      HP            Notebook    6    2.19  10.614129            0    0   \n",
       "\n",
       "             Ppi              Cpu_brand   HDD  SSD Gpu_brand       Os  \n",
       "0     226.983005          Intel Core i5     0  128     Intel      Mac  \n",
       "1     127.677940          Intel Core i5     0    0     Intel      Mac  \n",
       "2     141.211998          Intel Core i5     0  256     Intel   Others  \n",
       "3     220.534624          Intel Core i7     0  512       AMD      Mac  \n",
       "4     226.983005          Intel Core i5     0  256     Intel      Mac  \n",
       "...          ...                    ...   ...  ...       ...      ...  \n",
       "1268  100.454670          Intel Core i7   500    0    Nvidia  Windows  \n",
       "1269  157.350512          Intel Core i7     0  128     Intel  Windows  \n",
       "1270  276.053530          Intel Core i7     0  512     Intel  Windows  \n",
       "1271  111.935204  Other Intel Processor     0    0     Intel  Windows  \n",
       "1272  100.454670          Intel Core i7  1000    0       AMD  Windows  \n",
       "\n",
       "[1272 rows x 13 columns]"
      ]
     },
     "execution_count": 38,
     "metadata": {},
     "output_type": "execute_result"
    }
   ],
   "source": [
    "df"
   ]
  },
  {
   "cell_type": "code",
   "execution_count": null,
   "metadata": {},
   "outputs": [],
   "source": []
  },
  {
   "cell_type": "code",
   "execution_count": null,
   "metadata": {},
   "outputs": [],
   "source": []
  },
  {
   "cell_type": "code",
   "execution_count": null,
   "metadata": {},
   "outputs": [],
   "source": []
  },
  {
   "cell_type": "code",
   "execution_count": null,
   "metadata": {},
   "outputs": [],
   "source": []
  },
  {
   "cell_type": "code",
   "execution_count": null,
   "metadata": {},
   "outputs": [],
   "source": []
  },
  {
   "cell_type": "code",
   "execution_count": null,
   "metadata": {},
   "outputs": [],
   "source": []
  },
  {
   "cell_type": "code",
   "execution_count": null,
   "metadata": {},
   "outputs": [],
   "source": []
  },
  {
   "cell_type": "code",
   "execution_count": null,
   "metadata": {},
   "outputs": [],
   "source": []
  },
  {
   "cell_type": "code",
   "execution_count": null,
   "metadata": {},
   "outputs": [],
   "source": []
  },
  {
   "cell_type": "code",
   "execution_count": null,
   "metadata": {},
   "outputs": [],
   "source": []
  }
 ],
 "metadata": {
  "kernelspec": {
   "display_name": "Python 3",
   "language": "python",
   "name": "python3"
  },
  "language_info": {
   "codemirror_mode": {
    "name": "ipython",
    "version": 3
   },
   "file_extension": ".py",
   "mimetype": "text/x-python",
   "name": "python",
   "nbconvert_exporter": "python",
   "pygments_lexer": "ipython3",
   "version": "3.11.3"
  },
  "orig_nbformat": 4
 },
 "nbformat": 4,
 "nbformat_minor": 2
}
